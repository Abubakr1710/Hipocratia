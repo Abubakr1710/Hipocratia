{
 "cells": [
  {
   "cell_type": "code",
   "execution_count": 4,
   "metadata": {},
   "outputs": [],
   "source": [
    "import pandas as pd\n",
    "import matplotlib.pyplot as plt\n",
    "from sklearn.model_selection import train_test_split, cross_val_score, StratifiedKFold,cross_val_predict,GridSearchCV\n",
    "from sklearn.ensemble import RandomForestClassifier,AdaBoostClassifier,GradientBoostingClassifier, ExtraTreesClassifier\n",
    "from sklearn.preprocessing import StandardScaler,OrdinalEncoder\n",
    "from sklearn.compose import ColumnTransformer\n",
    "from sklearn.pipeline import Pipeline,make_pipeline\n",
    "from sklearn.metrics import accuracy_score, plot_confusion_matrix\n",
    "from sklearn.svm import SVC\n",
    "from sklearn.linear_model import LogisticRegression\n",
    "from sklearn import metrics\n",
    "import time\n",
    "# Load data\n",
    "data = pd.read_csv('heart_attack\\heart.csv')\n",
    "\n",
    "# remove duplicates\n",
    "data = data.drop_duplicates()\n",
    "\n",
    "\n",
    "\n"
   ]
  },
  {
   "cell_type": "code",
   "execution_count": 5,
   "metadata": {},
   "outputs": [],
   "source": [
    "X = data.drop(['output'],axis=1)\n",
    "y = data['output']\n",
    "\n",
    "X_train, X_test, y_train, y_test = train_test_split(\n",
    "    X, y, test_size=0.2, random_state=0)\n",
    "\n"
   ]
  },
  {
   "cell_type": "code",
   "execution_count": 6,
   "metadata": {},
   "outputs": [
    {
     "data": {
      "text/html": [
       "<div>\n",
       "<style scoped>\n",
       "    .dataframe tbody tr th:only-of-type {\n",
       "        vertical-align: middle;\n",
       "    }\n",
       "\n",
       "    .dataframe tbody tr th {\n",
       "        vertical-align: top;\n",
       "    }\n",
       "\n",
       "    .dataframe thead th {\n",
       "        text-align: right;\n",
       "    }\n",
       "</style>\n",
       "<table border=\"1\" class=\"dataframe\">\n",
       "  <thead>\n",
       "    <tr style=\"text-align: right;\">\n",
       "      <th></th>\n",
       "      <th>age</th>\n",
       "      <th>sex</th>\n",
       "      <th>cp</th>\n",
       "      <th>trtbps</th>\n",
       "      <th>chol</th>\n",
       "      <th>fbs</th>\n",
       "      <th>restecg</th>\n",
       "      <th>thalachh</th>\n",
       "      <th>exng</th>\n",
       "      <th>oldpeak</th>\n",
       "      <th>slp</th>\n",
       "      <th>caa</th>\n",
       "      <th>thall</th>\n",
       "      <th>output</th>\n",
       "    </tr>\n",
       "  </thead>\n",
       "  <tbody>\n",
       "    <tr>\n",
       "      <th>0</th>\n",
       "      <td>63</td>\n",
       "      <td>1</td>\n",
       "      <td>3</td>\n",
       "      <td>145</td>\n",
       "      <td>233</td>\n",
       "      <td>1</td>\n",
       "      <td>0</td>\n",
       "      <td>150</td>\n",
       "      <td>0</td>\n",
       "      <td>2.3</td>\n",
       "      <td>0</td>\n",
       "      <td>0</td>\n",
       "      <td>1</td>\n",
       "      <td>1</td>\n",
       "    </tr>\n",
       "    <tr>\n",
       "      <th>1</th>\n",
       "      <td>37</td>\n",
       "      <td>1</td>\n",
       "      <td>2</td>\n",
       "      <td>130</td>\n",
       "      <td>250</td>\n",
       "      <td>0</td>\n",
       "      <td>1</td>\n",
       "      <td>187</td>\n",
       "      <td>0</td>\n",
       "      <td>3.5</td>\n",
       "      <td>0</td>\n",
       "      <td>0</td>\n",
       "      <td>2</td>\n",
       "      <td>1</td>\n",
       "    </tr>\n",
       "    <tr>\n",
       "      <th>2</th>\n",
       "      <td>41</td>\n",
       "      <td>0</td>\n",
       "      <td>1</td>\n",
       "      <td>130</td>\n",
       "      <td>204</td>\n",
       "      <td>0</td>\n",
       "      <td>0</td>\n",
       "      <td>172</td>\n",
       "      <td>0</td>\n",
       "      <td>1.4</td>\n",
       "      <td>2</td>\n",
       "      <td>0</td>\n",
       "      <td>2</td>\n",
       "      <td>1</td>\n",
       "    </tr>\n",
       "    <tr>\n",
       "      <th>3</th>\n",
       "      <td>56</td>\n",
       "      <td>1</td>\n",
       "      <td>1</td>\n",
       "      <td>120</td>\n",
       "      <td>236</td>\n",
       "      <td>0</td>\n",
       "      <td>1</td>\n",
       "      <td>178</td>\n",
       "      <td>0</td>\n",
       "      <td>0.8</td>\n",
       "      <td>2</td>\n",
       "      <td>0</td>\n",
       "      <td>2</td>\n",
       "      <td>1</td>\n",
       "    </tr>\n",
       "    <tr>\n",
       "      <th>4</th>\n",
       "      <td>57</td>\n",
       "      <td>0</td>\n",
       "      <td>0</td>\n",
       "      <td>120</td>\n",
       "      <td>354</td>\n",
       "      <td>0</td>\n",
       "      <td>1</td>\n",
       "      <td>163</td>\n",
       "      <td>1</td>\n",
       "      <td>0.6</td>\n",
       "      <td>2</td>\n",
       "      <td>0</td>\n",
       "      <td>2</td>\n",
       "      <td>1</td>\n",
       "    </tr>\n",
       "  </tbody>\n",
       "</table>\n",
       "</div>"
      ],
      "text/plain": [
       "   age  sex  cp  trtbps  chol  fbs  restecg  thalachh  exng  oldpeak  slp  \\\n",
       "0   63    1   3     145   233    1        0       150     0      2.3    0   \n",
       "1   37    1   2     130   250    0        1       187     0      3.5    0   \n",
       "2   41    0   1     130   204    0        0       172     0      1.4    2   \n",
       "3   56    1   1     120   236    0        1       178     0      0.8    2   \n",
       "4   57    0   0     120   354    0        1       163     1      0.6    2   \n",
       "\n",
       "   caa  thall  output  \n",
       "0    0      1       1  \n",
       "1    0      2       1  \n",
       "2    0      2       1  \n",
       "3    0      2       1  \n",
       "4    0      2       1  "
      ]
     },
     "execution_count": 6,
     "metadata": {},
     "output_type": "execute_result"
    }
   ],
   "source": [
    "data.head()"
   ]
  },
  {
   "cell_type": "code",
   "execution_count": 7,
   "metadata": {},
   "outputs": [],
   "source": [
    "# Preprocessor\n",
    "num_var = ['age', 'trtbps', 'chol', 'thalachh', 'oldpeak']\n",
    "cat_var = ['sex','cp','fbs','restecg','exng','slp','caa','thall']\n",
    "\n",
    "# cat_prep = Pipeline(steps=[('ordinal', OrdinalEncoder(), cat_var)])\n",
    "\n",
    "# num_prep = Pipeline(steps=[('scaler', StandardScaler(), num_var)])\n",
    "\n",
    "\n",
    "tree_prep = ColumnTransformer(transformers=[('ordinal', OrdinalEncoder(), cat_var), ('scaler', StandardScaler(), num_var)], remainder='drop')\n",
    "\n"
   ]
  },
  {
   "cell_type": "code",
   "execution_count": 8,
   "metadata": {},
   "outputs": [],
   "source": [
    "classifiers = {'Random Forest': RandomForestClassifier(n_estimators=100),\n",
    "                'AdaBoost': AdaBoostClassifier(n_estimators=50),\n",
    "                'Gradient Boost': GradientBoostingClassifier(n_estimators=100),\n",
    "                'Extratree': ExtraTreesClassifier(n_estimators=100),\n",
    "                'Svc':SVC(C=1),\n",
    "                'Logis_Regres':LogisticRegression()}\n",
    "\n",
    "classifiers = {name: make_pipeline(tree_prep,model) for name, model in classifiers.items()}"
   ]
  },
  {
   "cell_type": "code",
   "execution_count": 9,
   "metadata": {},
   "outputs": [
    {
     "name": "stderr",
     "output_type": "stream",
     "text": [
      "C:\\Users\\asus\\AppData\\Local\\Temp\\ipykernel_20912\\2518221516.py:7: FutureWarning: The frame.append method is deprecated and will be removed from pandas in a future version. Use pandas.concat instead.\n",
      "  results = results.append({'Model': model_name,\n",
      "C:\\Users\\asus\\AppData\\Local\\Temp\\ipykernel_20912\\2518221516.py:7: FutureWarning: The frame.append method is deprecated and will be removed from pandas in a future version. Use pandas.concat instead.\n",
      "  results = results.append({'Model': model_name,\n",
      "C:\\Users\\asus\\AppData\\Local\\Temp\\ipykernel_20912\\2518221516.py:7: FutureWarning: The frame.append method is deprecated and will be removed from pandas in a future version. Use pandas.concat instead.\n",
      "  results = results.append({'Model': model_name,\n",
      "C:\\Users\\asus\\AppData\\Local\\Temp\\ipykernel_20912\\2518221516.py:7: FutureWarning: The frame.append method is deprecated and will be removed from pandas in a future version. Use pandas.concat instead.\n",
      "  results = results.append({'Model': model_name,\n",
      "C:\\Users\\asus\\AppData\\Local\\Temp\\ipykernel_20912\\2518221516.py:7: FutureWarning: The frame.append method is deprecated and will be removed from pandas in a future version. Use pandas.concat instead.\n",
      "  results = results.append({'Model': model_name,\n",
      "C:\\Users\\asus\\AppData\\Local\\Temp\\ipykernel_20912\\2518221516.py:7: FutureWarning: The frame.append method is deprecated and will be removed from pandas in a future version. Use pandas.concat instead.\n",
      "  results = results.append({'Model': model_name,\n"
     ]
    },
    {
     "data": {
      "text/html": [
       "<style type=\"text/css\">\n",
       "#T_6e63d_row0_col1 {\n",
       "  width: 10em;\n",
       "  background: linear-gradient(90deg, #5fba7d 91.8%, transparent 91.8%);\n",
       "}\n",
       "#T_6e63d_row0_col2 {\n",
       "  width: 10em;\n",
       "  background: linear-gradient(90deg, #5fba7d 91.9%, transparent 91.9%);\n",
       "}\n",
       "#T_6e63d_row1_col1, #T_6e63d_row2_col1 {\n",
       "  width: 10em;\n",
       "  background: linear-gradient(90deg, #5fba7d 88.5%, transparent 88.5%);\n",
       "}\n",
       "#T_6e63d_row1_col2 {\n",
       "  width: 10em;\n",
       "  background: linear-gradient(90deg, #5fba7d 88.6%, transparent 88.6%);\n",
       "}\n",
       "#T_6e63d_row2_col2 {\n",
       "  width: 10em;\n",
       "  background: linear-gradient(90deg, #5fba7d 87.8%, transparent 87.8%);\n",
       "}\n",
       "#T_6e63d_row3_col1, #T_6e63d_row4_col1 {\n",
       "  width: 10em;\n",
       "  background: linear-gradient(90deg, #5fba7d 86.9%, transparent 86.9%);\n",
       "}\n",
       "#T_6e63d_row3_col2 {\n",
       "  width: 10em;\n",
       "  background: linear-gradient(90deg, #5fba7d 87.1%, transparent 87.1%);\n",
       "}\n",
       "#T_6e63d_row4_col2 {\n",
       "  width: 10em;\n",
       "  background: linear-gradient(90deg, #5fba7d 86.3%, transparent 86.3%);\n",
       "}\n",
       "#T_6e63d_row5_col1 {\n",
       "  width: 10em;\n",
       "  background: linear-gradient(90deg, #5fba7d 82.0%, transparent 82.0%);\n",
       "}\n",
       "#T_6e63d_row5_col2 {\n",
       "  width: 10em;\n",
       "  background: linear-gradient(90deg, #5fba7d 81.9%, transparent 81.9%);\n",
       "}\n",
       "</style>\n",
       "<table id=\"T_6e63d\">\n",
       "  <thead>\n",
       "    <tr>\n",
       "      <th class=\"blank level0\" >&nbsp;</th>\n",
       "      <th id=\"T_6e63d_level0_col0\" class=\"col_heading level0 col0\" >Model</th>\n",
       "      <th id=\"T_6e63d_level0_col1\" class=\"col_heading level0 col1\" >Accuracy</th>\n",
       "      <th id=\"T_6e63d_level0_col2\" class=\"col_heading level0 col2\" >Bal Acc.</th>\n",
       "      <th id=\"T_6e63d_level0_col3\" class=\"col_heading level0 col3\" >Time</th>\n",
       "    </tr>\n",
       "  </thead>\n",
       "  <tbody>\n",
       "    <tr>\n",
       "      <th id=\"T_6e63d_level0_row0\" class=\"row_heading level0 row0\" >1</th>\n",
       "      <td id=\"T_6e63d_row0_col0\" class=\"data row0 col0\" >AdaBoost</td>\n",
       "      <td id=\"T_6e63d_row0_col1\" class=\"data row0 col1\" >91.803279</td>\n",
       "      <td id=\"T_6e63d_row0_col2\" class=\"data row0 col2\" >91.884532</td>\n",
       "      <td id=\"T_6e63d_row0_col3\" class=\"data row0 col3\" >0.126066</td>\n",
       "    </tr>\n",
       "    <tr>\n",
       "      <th id=\"T_6e63d_level0_row1\" class=\"row_heading level0 row1\" >2</th>\n",
       "      <td id=\"T_6e63d_row1_col0\" class=\"data row1 col0\" >Random Forest</td>\n",
       "      <td id=\"T_6e63d_row1_col1\" class=\"data row1 col1\" >88.524590</td>\n",
       "      <td id=\"T_6e63d_row1_col2\" class=\"data row1 col2\" >88.562092</td>\n",
       "      <td id=\"T_6e63d_row1_col3\" class=\"data row1 col3\" >1.140127</td>\n",
       "    </tr>\n",
       "    <tr>\n",
       "      <th id=\"T_6e63d_level0_row2\" class=\"row_heading level0 row2\" >3</th>\n",
       "      <td id=\"T_6e63d_row2_col0\" class=\"data row2 col0\" >Svc</td>\n",
       "      <td id=\"T_6e63d_row2_col1\" class=\"data row2 col1\" >88.524590</td>\n",
       "      <td id=\"T_6e63d_row2_col2\" class=\"data row2 col2\" >87.799564</td>\n",
       "      <td id=\"T_6e63d_row2_col3\" class=\"data row2 col3\" >0.339292</td>\n",
       "    </tr>\n",
       "    <tr>\n",
       "      <th id=\"T_6e63d_level0_row3\" class=\"row_heading level0 row3\" >4</th>\n",
       "      <td id=\"T_6e63d_row3_col0\" class=\"data row3 col0\" >Extratree</td>\n",
       "      <td id=\"T_6e63d_row3_col1\" class=\"data row3 col1\" >86.885246</td>\n",
       "      <td id=\"T_6e63d_row3_col2\" class=\"data row3 col2\" >87.091503</td>\n",
       "      <td id=\"T_6e63d_row3_col3\" class=\"data row3 col3\" >0.123695</td>\n",
       "    </tr>\n",
       "    <tr>\n",
       "      <th id=\"T_6e63d_level0_row4\" class=\"row_heading level0 row4\" >5</th>\n",
       "      <td id=\"T_6e63d_row4_col0\" class=\"data row4 col0\" >Logis_Regres</td>\n",
       "      <td id=\"T_6e63d_row4_col1\" class=\"data row4 col1\" >86.885246</td>\n",
       "      <td id=\"T_6e63d_row4_col2\" class=\"data row4 col2\" >86.328976</td>\n",
       "      <td id=\"T_6e63d_row4_col3\" class=\"data row4 col3\" >0.779629</td>\n",
       "    </tr>\n",
       "    <tr>\n",
       "      <th id=\"T_6e63d_level0_row5\" class=\"row_heading level0 row5\" >6</th>\n",
       "      <td id=\"T_6e63d_row5_col0\" class=\"data row5 col0\" >Gradient Boost</td>\n",
       "      <td id=\"T_6e63d_row5_col1\" class=\"data row5 col1\" >81.967213</td>\n",
       "      <td id=\"T_6e63d_row5_col2\" class=\"data row5 col2\" >81.917211</td>\n",
       "      <td id=\"T_6e63d_row5_col3\" class=\"data row5 col3\" >0.106493</td>\n",
       "    </tr>\n",
       "  </tbody>\n",
       "</table>\n"
      ],
      "text/plain": [
       "<pandas.io.formats.style.Styler at 0x235cb65ca00>"
      ]
     },
     "execution_count": 9,
     "metadata": {},
     "output_type": "execute_result"
    }
   ],
   "source": [
    "results = pd.DataFrame({'Model': [], 'Accuracy': [], 'Bal Acc.': [], 'Time': []})\n",
    "for model_name, model in classifiers.items():\n",
    "    start_time = time.time()\n",
    "    model.fit(X_train,y_train)\n",
    "    predictions = model.predict(X_test)\n",
    "    total_time = time.time()- start_time\n",
    "    results = results.append({'Model': model_name,\n",
    "                            'Accuracy': metrics.accuracy_score(y_test, predictions)*100,\n",
    "                            'Bal Acc.': metrics.balanced_accuracy_score(y_test,predictions)*100,\n",
    "                            'Time': total_time},\n",
    "                            ignore_index=True)\n",
    "\n",
    "results_ord = results.sort_values(by=['Accuracy'], ascending=False, ignore_index=True)\n",
    "results_ord.index += 1 \n",
    "results_ord.style.bar(subset=['Accuracy', 'Bal Acc.'], vmin=0, vmax=100, color='#5fba7d')                            "
   ]
  },
  {
   "cell_type": "code",
   "execution_count": 10,
   "metadata": {},
   "outputs": [],
   "source": [
    "ada_boost = AdaBoostClassifier()\n",
    "parameters = ({'n_estimators':[30,50,100,200,300],'learning_rate':[1,2,3,6,7,9], 'algorithm':['SAMME','SAMME.R']})\n",
    "grd = GridSearchCV(estimator= ada_boost,param_grid=parameters, n_jobs=-1, scoring='accuracy')\n"
   ]
  },
  {
   "cell_type": "code",
   "execution_count": 11,
   "metadata": {},
   "outputs": [
    {
     "name": "stderr",
     "output_type": "stream",
     "text": [
      "C:\\Users\\asus\\anaconda3\\envs\\school\\lib\\site-packages\\sklearn\\model_selection\\_search.py:922: UserWarning: One or more of the test scores are non-finite: [0.82185374 0.80535714 0.80952381 0.80119048 0.78443878 0.60153061\n",
      " 0.55153061 0.55153061 0.60153061 0.60153061        nan        nan\n",
      "        nan        nan        nan        nan        nan        nan\n",
      "        nan        nan        nan        nan        nan        nan\n",
      "        nan        nan        nan        nan        nan        nan\n",
      " 0.80544218 0.75969388 0.77219388 0.75544218 0.75561224 0.50527211\n",
      " 0.50527211 0.50527211 0.50527211 0.50527211 0.30263605 0.30263605\n",
      " 0.30263605 0.30263605 0.30263605 0.30263605 0.30263605 0.30263605\n",
      " 0.30263605 0.30263605 0.30263605 0.30263605 0.30263605 0.30263605\n",
      " 0.30263605 0.30263605 0.30263605 0.30263605 0.30263605 0.30263605]\n",
      "  warnings.warn(\n"
     ]
    }
   ],
   "source": [
    "grd_train=grd.fit(X_train,y_train)"
   ]
  },
  {
   "cell_type": "code",
   "execution_count": 12,
   "metadata": {},
   "outputs": [
    {
     "data": {
      "text/plain": [
       "{'algorithm': 'SAMME', 'learning_rate': 1, 'n_estimators': 30}"
      ]
     },
     "execution_count": 12,
     "metadata": {},
     "output_type": "execute_result"
    }
   ],
   "source": [
    "grd.best_params_"
   ]
  },
  {
   "cell_type": "code",
   "execution_count": 13,
   "metadata": {},
   "outputs": [
    {
     "data": {
      "text/plain": [
       "0.9180327868852459"
      ]
     },
     "execution_count": 13,
     "metadata": {},
     "output_type": "execute_result"
    }
   ],
   "source": [
    "ada_boost = AdaBoostClassifier(n_estimators=50, algorithm='SAMME.R', learning_rate=1)\n",
    "ada_boost.fit(X_train,y_train)\n",
    "predicts = ada_boost.predict(X_test)\n",
    "scores = (predicts==y_test).sum()/len(y_test)\n",
    "scores"
   ]
  },
  {
   "cell_type": "code",
   "execution_count": 14,
   "metadata": {},
   "outputs": [
    {
     "data": {
      "image/png": "[encoded data removed]",
      "text/plain": [
       "<Figure size 432x288 with 2 Axes>"
      ]
     },
     "metadata": {
      "needs_background": "light"
     },
     "output_type": "display_data"
    }
   ],
   "source": [
    "plot_confusion_matrix(ada_boost, X_test, y_test)\n",
    "plt.show()"
   ]
  },
  {
   "cell_type": "code",
   "execution_count": 17,
   "metadata": {},
   "outputs": [
    {
     "data": {
      "text/plain": [
       "['ada_joblib']"
      ]
     },
     "execution_count": 17,
     "metadata": {},
     "output_type": "execute_result"
    }
   ],
   "source": [
    "import joblib\n",
    "joblib.dump(ada_boost, 'ada_joblib')"
   ]
  },
  {
   "cell_type": "code",
   "execution_count": 15,
   "metadata": {},
   "outputs": [
    {
     "data": {
      "image/png": "[encoded data removed]",
      "text/plain": [
       "<Figure size 432x288 with 1 Axes>"
      ]
     },
     "metadata": {
      "needs_background": "light"
     },
     "output_type": "display_data"
    }
   ],
   "source": [
    "extra_tree = ExtraTreesClassifier()\n",
    "extra_tree.fit(X,y)\n",
    "feat_importan = pd.Series(extra_tree.feature_importances_, index= X.columns)\n",
    "feat_importan.nlargest(13).plot(kind = 'barh')\n",
    "plt.show()"
   ]
  },
  {
   "cell_type": "code",
   "execution_count": 18,
   "metadata": {},
   "outputs": [
    {
     "name": "stdout",
     "output_type": "stream",
     "text": [
      "accuracy_score: 0.89\n"
     ]
    },
    {
     "data": {
      "image/png": "[encoded data removed]",
      "text/plain": [
       "<Figure size 432x288 with 2 Axes>"
      ]
     },
     "metadata": {
      "needs_background": "light"
     },
     "output_type": "display_data"
    }
   ],
   "source": [
    "# Model\n",
    "rf = RandomForestClassifier(random_state=0, max_depth=4, n_estimators=200)\n",
    "\n",
    "# Model pipeline\n",
    "rf_pipe = Pipeline([('prep', tree_prep), ('rf', rf)])\n",
    "\n",
    "# Fit\n",
    "rf_pipe_fitted = rf_pipe.fit(X_train, y_train)\n",
    "\n",
    "# Performance (initial score is 0.89)\n",
    "pred = rf_pipe_fitted.predict(X_test)\n",
    "\n",
    "print(f'accuracy_score: {round(accuracy_score(y_test, pred), 2) }')\n",
    "\n",
    "# Confusion matrix\n",
    "plot_confusion_matrix(rf_pipe, X_test, y_test)\n",
    "plt.show()"
   ]
  }
 ],
 "metadata": {
  "interpreter": {
   "hash": "a46b90219676627a72d3a91274f779bf31e1b3152ef0e373c362fa37b00172ba"
  },
  "kernelspec": {
   "display_name": "Python 3.8.2 ('school')",
   "language": "python",
   "name": "python3"
  },
  "language_info": {
   "codemirror_mode": {
    "name": "ipython",
    "version": 3
   },
   "file_extension": ".py",
   "mimetype": "text/x-python",
   "name": "python",
   "nbconvert_exporter": "python",
   "pygments_lexer": "ipython3",
   "version": "3.8.2"
  },
  "orig_nbformat": 4
 },
 "nbformat": 4,
 "nbformat_minor": 2
}
