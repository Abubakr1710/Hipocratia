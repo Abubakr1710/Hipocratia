{
 "cells": [
  {
   "cell_type": "code",
   "execution_count": 71,
   "metadata": {},
   "outputs": [],
   "source": [
    "import pandas as pd \n",
    "import numpy as np\n",
    "import matplotlib.pyplot as plt\n",
    "import seaborn as sb\n",
    "\n",
    "from sklearn.ensemble           import ExtraTreesClassifier\n",
    "from sklearn.model_selection    import  train_test_split ,cross_val_predict, StratifiedKFold, cross_validate\n",
    "from sklearn.metrics            import  accuracy_score, balanced_accuracy_score, plot_confusion_matrix, make_scorer\n",
    "from catboost                   import CatBoostClassifier\n",
    "from sklearn.model_selection    import GridSearchCV"
   ]
  },
  {
   "cell_type": "code",
   "execution_count": 72,
   "metadata": {},
   "outputs": [
    {
     "data": {
      "text/plain": [
       "age         0\n",
       "sex         0\n",
       "cp          0\n",
       "trtbps      0\n",
       "chol        0\n",
       "fbs         0\n",
       "restecg     0\n",
       "thalachh    0\n",
       "exng        0\n",
       "oldpeak     0\n",
       "slp         0\n",
       "caa         0\n",
       "thall       0\n",
       "output      0\n",
       "dtype: int64"
      ]
     },
     "execution_count": 72,
     "metadata": {},
     "output_type": "execute_result"
    }
   ],
   "source": [
    "df= pd.read_csv('.\\data\\heart.csv')\n",
    "\n",
    "df.isnull().sum()\n"
   ]
  },
  {
   "cell_type": "markdown",
   "metadata": {},
   "source": [
    "Dropping 'output' because is our target"
   ]
  },
  {
   "cell_type": "code",
   "execution_count": 73,
   "metadata": {},
   "outputs": [],
   "source": [
    "x=df.drop('output', axis=1)\n",
    "y= df.output\n"
   ]
  },
  {
   "cell_type": "code",
   "execution_count": 74,
   "metadata": {},
   "outputs": [
    {
     "data": {
      "text/plain": [
       "<AxesSubplot:xlabel='output', ylabel='count'>"
      ]
     },
     "execution_count": 74,
     "metadata": {},
     "output_type": "execute_result"
    },
    {
     "data": {
      "image/png": "[encoded data removed]",
      "text/plain": [
       "<Figure size 432x288 with 1 Axes>"
      ]
     },
     "metadata": {
      "needs_background": "light"
     },
     "output_type": "display_data"
    }
   ],
   "source": [
    "sb.countplot(x ='output', data = df)"
   ]
  },
  {
   "cell_type": "code",
   "execution_count": 75,
   "metadata": {},
   "outputs": [],
   "source": [
    "x_train,x_test,y_train,y_test=train_test_split(x,y,test_size=0.2,random_state=0,stratify=y)"
   ]
  },
  {
   "cell_type": "code",
   "execution_count": 57,
   "metadata": {},
   "outputs": [],
   "source": [
    "cat= CatBoostClassifier(learning_rate=0.001,allow_writing_files=False,n_estimators=100,random_state=0)\n",
    "extree= ExtraTreesClassifier(random_state=0)"
   ]
  },
  {
   "cell_type": "markdown",
   "metadata": {},
   "source": [
    "Catboost model"
   ]
  },
  {
   "cell_type": "code",
   "execution_count": 58,
   "metadata": {},
   "outputs": [
    {
     "name": "stdout",
     "output_type": "stream",
     "text": [
      "0:\tlearn: 0.6928398\ttotal: 7.91ms\tremaining: 783ms\n",
      "1:\tlearn: 0.6925321\ttotal: 18.5ms\tremaining: 908ms\n",
      "2:\tlearn: 0.6922581\ttotal: 23.1ms\tremaining: 748ms\n",
      "3:\tlearn: 0.6920156\ttotal: 29.5ms\tremaining: 709ms\n",
      "4:\tlearn: 0.6917257\ttotal: 43.5ms\tremaining: 827ms\n",
      "5:\tlearn: 0.6914419\ttotal: 58.6ms\tremaining: 918ms\n",
      "6:\tlearn: 0.6911189\ttotal: 62.3ms\tremaining: 828ms\n",
      "7:\tlearn: 0.6908342\ttotal: 76ms\tremaining: 874ms\n",
      "8:\tlearn: 0.6905472\ttotal: 109ms\tremaining: 1.1s\n",
      "9:\tlearn: 0.6903062\ttotal: 129ms\tremaining: 1.16s\n",
      "10:\tlearn: 0.6900717\ttotal: 139ms\tremaining: 1.13s\n",
      "11:\tlearn: 0.6898060\ttotal: 185ms\tremaining: 1.36s\n",
      "12:\tlearn: 0.6895605\ttotal: 192ms\tremaining: 1.28s\n",
      "13:\tlearn: 0.6892025\ttotal: 196ms\tremaining: 1.2s\n",
      "14:\tlearn: 0.6888711\ttotal: 201ms\tremaining: 1.14s\n",
      "15:\tlearn: 0.6886074\ttotal: 206ms\tremaining: 1.08s\n",
      "16:\tlearn: 0.6883047\ttotal: 213ms\tremaining: 1.04s\n",
      "17:\tlearn: 0.6880592\ttotal: 216ms\tremaining: 985ms\n",
      "18:\tlearn: 0.6877820\ttotal: 222ms\tremaining: 945ms\n",
      "19:\tlearn: 0.6874263\ttotal: 227ms\tremaining: 909ms\n",
      "20:\tlearn: 0.6871349\ttotal: 233ms\tremaining: 875ms\n",
      "21:\tlearn: 0.6868121\ttotal: 244ms\tremaining: 864ms\n",
      "22:\tlearn: 0.6865928\ttotal: 251ms\tremaining: 840ms\n",
      "23:\tlearn: 0.6863426\ttotal: 257ms\tremaining: 812ms\n",
      "24:\tlearn: 0.6861181\ttotal: 272ms\tremaining: 815ms\n",
      "25:\tlearn: 0.6858160\ttotal: 278ms\tremaining: 792ms\n",
      "26:\tlearn: 0.6855235\ttotal: 283ms\tremaining: 764ms\n",
      "27:\tlearn: 0.6852303\ttotal: 288ms\tremaining: 740ms\n",
      "28:\tlearn: 0.6850289\ttotal: 289ms\tremaining: 708ms\n",
      "29:\tlearn: 0.6847423\ttotal: 296ms\tremaining: 691ms\n",
      "30:\tlearn: 0.6844872\ttotal: 301ms\tremaining: 671ms\n",
      "31:\tlearn: 0.6841710\ttotal: 322ms\tremaining: 683ms\n",
      "32:\tlearn: 0.6839355\ttotal: 326ms\tremaining: 661ms\n",
      "33:\tlearn: 0.6836453\ttotal: 334ms\tremaining: 648ms\n",
      "34:\tlearn: 0.6833951\ttotal: 339ms\tremaining: 630ms\n",
      "35:\tlearn: 0.6831573\ttotal: 343ms\tremaining: 610ms\n",
      "36:\tlearn: 0.6829000\ttotal: 351ms\tremaining: 597ms\n",
      "37:\tlearn: 0.6826427\ttotal: 354ms\tremaining: 578ms\n",
      "38:\tlearn: 0.6824034\ttotal: 361ms\tremaining: 564ms\n",
      "39:\tlearn: 0.6821397\ttotal: 367ms\tremaining: 551ms\n",
      "40:\tlearn: 0.6818532\ttotal: 375ms\tremaining: 539ms\n",
      "41:\tlearn: 0.6816271\ttotal: 381ms\tremaining: 526ms\n",
      "42:\tlearn: 0.6813837\ttotal: 389ms\tremaining: 515ms\n",
      "43:\tlearn: 0.6810633\ttotal: 390ms\tremaining: 497ms\n",
      "44:\tlearn: 0.6807427\ttotal: 399ms\tremaining: 488ms\n",
      "45:\tlearn: 0.6805296\ttotal: 409ms\tremaining: 481ms\n",
      "46:\tlearn: 0.6802492\ttotal: 413ms\tremaining: 466ms\n",
      "47:\tlearn: 0.6799564\ttotal: 428ms\tremaining: 463ms\n",
      "48:\tlearn: 0.6796895\ttotal: 434ms\tremaining: 452ms\n",
      "49:\tlearn: 0.6794012\ttotal: 444ms\tremaining: 444ms\n",
      "50:\tlearn: 0.6790694\ttotal: 447ms\tremaining: 429ms\n",
      "51:\tlearn: 0.6788049\ttotal: 454ms\tremaining: 419ms\n",
      "52:\tlearn: 0.6785537\ttotal: 461ms\tremaining: 409ms\n",
      "53:\tlearn: 0.6783304\ttotal: 466ms\tremaining: 397ms\n",
      "54:\tlearn: 0.6781166\ttotal: 477ms\tremaining: 391ms\n",
      "55:\tlearn: 0.6778443\ttotal: 480ms\tremaining: 377ms\n",
      "56:\tlearn: 0.6775441\ttotal: 489ms\tremaining: 369ms\n",
      "57:\tlearn: 0.6772582\ttotal: 493ms\tremaining: 357ms\n",
      "58:\tlearn: 0.6770605\ttotal: 498ms\tremaining: 346ms\n",
      "59:\tlearn: 0.6767963\ttotal: 501ms\tremaining: 334ms\n",
      "60:\tlearn: 0.6765142\ttotal: 506ms\tremaining: 323ms\n",
      "61:\tlearn: 0.6762427\ttotal: 510ms\tremaining: 313ms\n",
      "62:\tlearn: 0.6759833\ttotal: 515ms\tremaining: 303ms\n",
      "63:\tlearn: 0.6757041\ttotal: 521ms\tremaining: 293ms\n",
      "64:\tlearn: 0.6754997\ttotal: 525ms\tremaining: 283ms\n",
      "65:\tlearn: 0.6752155\ttotal: 529ms\tremaining: 273ms\n",
      "66:\tlearn: 0.6749495\ttotal: 540ms\tremaining: 266ms\n",
      "67:\tlearn: 0.6746308\ttotal: 544ms\tremaining: 256ms\n",
      "68:\tlearn: 0.6744471\ttotal: 547ms\tremaining: 246ms\n",
      "69:\tlearn: 0.6742272\ttotal: 550ms\tremaining: 236ms\n",
      "70:\tlearn: 0.6739884\ttotal: 562ms\tremaining: 229ms\n",
      "71:\tlearn: 0.6737817\ttotal: 565ms\tremaining: 220ms\n",
      "72:\tlearn: 0.6734968\ttotal: 571ms\tremaining: 211ms\n",
      "73:\tlearn: 0.6732229\ttotal: 574ms\tremaining: 202ms\n",
      "74:\tlearn: 0.6729593\ttotal: 579ms\tremaining: 193ms\n",
      "75:\tlearn: 0.6727120\ttotal: 584ms\tremaining: 184ms\n",
      "76:\tlearn: 0.6724906\ttotal: 588ms\tremaining: 176ms\n",
      "77:\tlearn: 0.6722584\ttotal: 593ms\tremaining: 167ms\n",
      "78:\tlearn: 0.6719593\ttotal: 602ms\tremaining: 160ms\n",
      "79:\tlearn: 0.6716841\ttotal: 611ms\tremaining: 153ms\n",
      "80:\tlearn: 0.6714532\ttotal: 621ms\tremaining: 146ms\n",
      "81:\tlearn: 0.6711582\ttotal: 628ms\tremaining: 138ms\n",
      "82:\tlearn: 0.6709318\ttotal: 636ms\tremaining: 130ms\n",
      "83:\tlearn: 0.6706808\ttotal: 641ms\tremaining: 122ms\n",
      "84:\tlearn: 0.6703750\ttotal: 650ms\tremaining: 115ms\n",
      "85:\tlearn: 0.6701133\ttotal: 654ms\tremaining: 106ms\n",
      "86:\tlearn: 0.6698342\ttotal: 658ms\tremaining: 98.3ms\n",
      "87:\tlearn: 0.6695675\ttotal: 666ms\tremaining: 90.8ms\n",
      "88:\tlearn: 0.6692846\ttotal: 669ms\tremaining: 82.7ms\n",
      "89:\tlearn: 0.6690393\ttotal: 673ms\tremaining: 74.8ms\n",
      "90:\tlearn: 0.6687708\ttotal: 680ms\tremaining: 67.2ms\n",
      "91:\tlearn: 0.6685176\ttotal: 684ms\tremaining: 59.5ms\n",
      "92:\tlearn: 0.6683401\ttotal: 691ms\tremaining: 52ms\n",
      "93:\tlearn: 0.6680658\ttotal: 696ms\tremaining: 44.4ms\n",
      "94:\tlearn: 0.6678086\ttotal: 701ms\tremaining: 36.9ms\n",
      "95:\tlearn: 0.6675180\ttotal: 708ms\tremaining: 29.5ms\n",
      "96:\tlearn: 0.6672741\ttotal: 710ms\tremaining: 22ms\n",
      "97:\tlearn: 0.6670274\ttotal: 713ms\tremaining: 14.6ms\n",
      "98:\tlearn: 0.6667597\ttotal: 716ms\tremaining: 7.24ms\n",
      "99:\tlearn: 0.6665222\ttotal: 720ms\tremaining: 0us\n"
     ]
    }
   ],
   "source": [
    "cat_model=cat.fit(x_train,y_train)\n",
    "score=cat_model.score(x_test,y_test)\n",
    "\n",
    "prediction=cat.predict(x_test)"
   ]
  },
  {
   "cell_type": "code",
   "execution_count": 59,
   "metadata": {},
   "outputs": [
    {
     "data": {
      "text/plain": [
       "0.8688524590163934"
      ]
     },
     "execution_count": 59,
     "metadata": {},
     "output_type": "execute_result"
    }
   ],
   "source": [
    "score"
   ]
  },
  {
   "cell_type": "code",
   "execution_count": 60,
   "metadata": {},
   "outputs": [
    {
     "name": "stderr",
     "output_type": "stream",
     "text": [
      "C:\\Users\\KINGSLEY\\Anaconda3\\Anaconda\\envs\\kingsley\\lib\\site-packages\\sklearn\\utils\\deprecation.py:87: FutureWarning: Function plot_confusion_matrix is deprecated; Function `plot_confusion_matrix` is deprecated in 1.0 and will be removed in 1.2. Use one of the class methods: ConfusionMatrixDisplay.from_predictions or ConfusionMatrixDisplay.from_estimator.\n",
      "  warnings.warn(msg, category=FutureWarning)\n"
     ]
    },
    {
     "data": {
      "image/png": "[encoded data removed]",
      "text/plain": [
       "<Figure size 432x288 with 2 Axes>"
      ]
     },
     "metadata": {
      "needs_background": "light"
     },
     "output_type": "display_data"
    }
   ],
   "source": [
    "# plotting comfussion matrix to verify \n",
    "plot_confusion_matrix(cat, x_test, y_test)\n",
    "plt.show()"
   ]
  },
  {
   "cell_type": "code",
   "execution_count": 61,
   "metadata": {},
   "outputs": [
    {
     "name": "stdout",
     "output_type": "stream",
     "text": [
      "0:\tlearn: 0.6928567\ttotal: 40.4ms\tremaining: 4s\n",
      "1:\tlearn: 0.6926035\ttotal: 52.5ms\tremaining: 2.57s\n",
      "2:\tlearn: 0.6923090\ttotal: 60.9ms\tremaining: 1.97s\n",
      "3:\tlearn: 0.6920414\ttotal: 73.4ms\tremaining: 1.76s\n",
      "4:\tlearn: 0.6917835\ttotal: 88.3ms\tremaining: 1.68s\n",
      "5:\tlearn: 0.6915545\ttotal: 109ms\tremaining: 1.71s\n",
      "6:\tlearn: 0.6912487\ttotal: 120ms\tremaining: 1.6s\n",
      "7:\tlearn: 0.6910293\ttotal: 141ms\tremaining: 1.62s\n",
      "8:\tlearn: 0.6907390\ttotal: 147ms\tremaining: 1.49s\n",
      "9:\tlearn: 0.6905374\ttotal: 155ms\tremaining: 1.39s\n",
      "10:\tlearn: 0.6903269\ttotal: 168ms\tremaining: 1.36s\n",
      "11:\tlearn: 0.6900412\ttotal: 185ms\tremaining: 1.35s\n",
      "12:\tlearn: 0.6898221\ttotal: 208ms\tremaining: 1.39s\n",
      "13:\tlearn: 0.6894906\ttotal: 212ms\tremaining: 1.3s\n",
      "14:\tlearn: 0.6892143\ttotal: 231ms\tremaining: 1.31s\n",
      "15:\tlearn: 0.6889781\ttotal: 242ms\tremaining: 1.27s\n",
      "16:\tlearn: 0.6886739\ttotal: 247ms\tremaining: 1.21s\n",
      "17:\tlearn: 0.6884224\ttotal: 264ms\tremaining: 1.2s\n",
      "18:\tlearn: 0.6882435\ttotal: 276ms\tremaining: 1.18s\n",
      "19:\tlearn: 0.6880307\ttotal: 283ms\tremaining: 1.13s\n",
      "20:\tlearn: 0.6877614\ttotal: 289ms\tremaining: 1.09s\n",
      "21:\tlearn: 0.6875112\ttotal: 295ms\tremaining: 1.04s\n",
      "22:\tlearn: 0.6872523\ttotal: 302ms\tremaining: 1.01s\n",
      "23:\tlearn: 0.6870190\ttotal: 313ms\tremaining: 992ms\n",
      "24:\tlearn: 0.6867908\ttotal: 322ms\tremaining: 967ms\n",
      "25:\tlearn: 0.6864888\ttotal: 330ms\tremaining: 940ms\n",
      "26:\tlearn: 0.6862418\ttotal: 340ms\tremaining: 918ms\n",
      "27:\tlearn: 0.6860230\ttotal: 352ms\tremaining: 905ms\n",
      "28:\tlearn: 0.6858248\ttotal: 359ms\tremaining: 879ms\n",
      "29:\tlearn: 0.6856163\ttotal: 365ms\tremaining: 852ms\n",
      "30:\tlearn: 0.6853652\ttotal: 372ms\tremaining: 828ms\n",
      "31:\tlearn: 0.6851800\ttotal: 379ms\tremaining: 805ms\n",
      "32:\tlearn: 0.6849502\ttotal: 418ms\tremaining: 849ms\n",
      "33:\tlearn: 0.6846994\ttotal: 429ms\tremaining: 833ms\n",
      "34:\tlearn: 0.6844206\ttotal: 441ms\tremaining: 819ms\n",
      "35:\tlearn: 0.6841667\ttotal: 447ms\tremaining: 795ms\n",
      "36:\tlearn: 0.6838807\ttotal: 458ms\tremaining: 780ms\n",
      "37:\tlearn: 0.6835783\ttotal: 489ms\tremaining: 797ms\n",
      "38:\tlearn: 0.6832789\ttotal: 496ms\tremaining: 775ms\n",
      "39:\tlearn: 0.6830885\ttotal: 505ms\tremaining: 757ms\n",
      "40:\tlearn: 0.6828420\ttotal: 509ms\tremaining: 733ms\n",
      "41:\tlearn: 0.6825450\ttotal: 517ms\tremaining: 714ms\n",
      "42:\tlearn: 0.6822410\ttotal: 521ms\tremaining: 691ms\n",
      "43:\tlearn: 0.6819873\ttotal: 544ms\tremaining: 693ms\n",
      "44:\tlearn: 0.6817778\ttotal: 555ms\tremaining: 678ms\n",
      "45:\tlearn: 0.6815319\ttotal: 567ms\tremaining: 666ms\n",
      "46:\tlearn: 0.6813588\ttotal: 576ms\tremaining: 650ms\n",
      "47:\tlearn: 0.6811043\ttotal: 587ms\tremaining: 636ms\n",
      "48:\tlearn: 0.6809084\ttotal: 600ms\tremaining: 624ms\n",
      "49:\tlearn: 0.6806389\ttotal: 620ms\tremaining: 620ms\n",
      "50:\tlearn: 0.6803565\ttotal: 624ms\tremaining: 599ms\n",
      "51:\tlearn: 0.6800471\ttotal: 636ms\tremaining: 587ms\n",
      "52:\tlearn: 0.6798112\ttotal: 643ms\tremaining: 570ms\n",
      "53:\tlearn: 0.6795543\ttotal: 651ms\tremaining: 555ms\n",
      "54:\tlearn: 0.6793361\ttotal: 658ms\tremaining: 538ms\n",
      "55:\tlearn: 0.6790341\ttotal: 685ms\tremaining: 538ms\n",
      "56:\tlearn: 0.6787826\ttotal: 698ms\tremaining: 526ms\n",
      "57:\tlearn: 0.6785393\ttotal: 713ms\tremaining: 516ms\n",
      "58:\tlearn: 0.6783185\ttotal: 718ms\tremaining: 499ms\n",
      "59:\tlearn: 0.6781329\ttotal: 728ms\tremaining: 486ms\n",
      "60:\tlearn: 0.6778927\ttotal: 748ms\tremaining: 478ms\n",
      "61:\tlearn: 0.6776249\ttotal: 756ms\tremaining: 464ms\n",
      "62:\tlearn: 0.6773791\ttotal: 765ms\tremaining: 450ms\n",
      "63:\tlearn: 0.6771360\ttotal: 777ms\tremaining: 437ms\n",
      "64:\tlearn: 0.6769174\ttotal: 788ms\tremaining: 425ms\n",
      "65:\tlearn: 0.6767192\ttotal: 810ms\tremaining: 417ms\n",
      "66:\tlearn: 0.6765492\ttotal: 821ms\tremaining: 404ms\n",
      "67:\tlearn: 0.6762806\ttotal: 834ms\tremaining: 393ms\n",
      "68:\tlearn: 0.6759662\ttotal: 843ms\tremaining: 379ms\n",
      "69:\tlearn: 0.6757289\ttotal: 853ms\tremaining: 366ms\n",
      "70:\tlearn: 0.6754841\ttotal: 863ms\tremaining: 353ms\n",
      "71:\tlearn: 0.6752439\ttotal: 870ms\tremaining: 338ms\n",
      "72:\tlearn: 0.6750697\ttotal: 878ms\tremaining: 325ms\n",
      "73:\tlearn: 0.6748166\ttotal: 901ms\tremaining: 317ms\n",
      "74:\tlearn: 0.6745904\ttotal: 910ms\tremaining: 303ms\n",
      "75:\tlearn: 0.6743653\ttotal: 919ms\tremaining: 290ms\n",
      "76:\tlearn: 0.6741202\ttotal: 927ms\tremaining: 277ms\n",
      "77:\tlearn: 0.6738119\ttotal: 934ms\tremaining: 263ms\n",
      "78:\tlearn: 0.6736391\ttotal: 940ms\tremaining: 250ms\n",
      "79:\tlearn: 0.6734269\ttotal: 965ms\tremaining: 241ms\n",
      "80:\tlearn: 0.6731662\ttotal: 976ms\tremaining: 229ms\n",
      "81:\tlearn: 0.6728941\ttotal: 992ms\tremaining: 218ms\n",
      "82:\tlearn: 0.6726680\ttotal: 997ms\tremaining: 204ms\n",
      "83:\tlearn: 0.6724526\ttotal: 1s\tremaining: 191ms\n",
      "84:\tlearn: 0.6721602\ttotal: 1.01s\tremaining: 178ms\n",
      "85:\tlearn: 0.6719385\ttotal: 1.02s\tremaining: 166ms\n",
      "86:\tlearn: 0.6717332\ttotal: 1.02s\tremaining: 153ms\n",
      "87:\tlearn: 0.6714773\ttotal: 1.03s\tremaining: 140ms\n",
      "88:\tlearn: 0.6712761\ttotal: 1.03s\tremaining: 128ms\n",
      "89:\tlearn: 0.6710220\ttotal: 1.04s\tremaining: 116ms\n",
      "90:\tlearn: 0.6708060\ttotal: 1.05s\tremaining: 104ms\n",
      "91:\tlearn: 0.6705358\ttotal: 1.06s\tremaining: 91.9ms\n",
      "92:\tlearn: 0.6702577\ttotal: 1.06s\tremaining: 80.2ms\n",
      "93:\tlearn: 0.6700414\ttotal: 1.07s\tremaining: 68.3ms\n",
      "94:\tlearn: 0.6697907\ttotal: 1.08s\tremaining: 56.7ms\n",
      "95:\tlearn: 0.6695489\ttotal: 1.08s\tremaining: 45.2ms\n",
      "96:\tlearn: 0.6693758\ttotal: 1.09s\tremaining: 33.6ms\n",
      "97:\tlearn: 0.6691701\ttotal: 1.09s\tremaining: 22.3ms\n",
      "98:\tlearn: 0.6689042\ttotal: 1.1s\tremaining: 11.1ms\n",
      "99:\tlearn: 0.6686717\ttotal: 1.11s\tremaining: 0us\n",
      "0:\tlearn: 0.6928472\ttotal: 5.92ms\tremaining: 586ms\n",
      "1:\tlearn: 0.6926437\ttotal: 13.3ms\tremaining: 650ms\n",
      "2:\tlearn: 0.6923709\ttotal: 17.1ms\tremaining: 553ms\n",
      "3:\tlearn: 0.6920552\ttotal: 22ms\tremaining: 527ms\n",
      "4:\tlearn: 0.6918078\ttotal: 33.4ms\tremaining: 635ms\n",
      "5:\tlearn: 0.6915895\ttotal: 37.6ms\tremaining: 589ms\n",
      "6:\tlearn: 0.6912938\ttotal: 43.3ms\tremaining: 575ms\n",
      "7:\tlearn: 0.6910989\ttotal: 51.1ms\tremaining: 588ms\n",
      "8:\tlearn: 0.6907361\ttotal: 61.1ms\tremaining: 618ms\n",
      "9:\tlearn: 0.6905165\ttotal: 65.2ms\tremaining: 587ms\n",
      "10:\tlearn: 0.6902724\ttotal: 77.7ms\tremaining: 629ms\n",
      "11:\tlearn: 0.6899981\ttotal: 81.1ms\tremaining: 595ms\n",
      "12:\tlearn: 0.6897788\ttotal: 88.8ms\tremaining: 594ms\n",
      "13:\tlearn: 0.6895445\ttotal: 95.9ms\tremaining: 589ms\n",
      "14:\tlearn: 0.6892433\ttotal: 99.2ms\tremaining: 562ms\n",
      "15:\tlearn: 0.6889821\ttotal: 107ms\tremaining: 561ms\n",
      "16:\tlearn: 0.6886916\ttotal: 116ms\tremaining: 569ms\n",
      "17:\tlearn: 0.6883977\ttotal: 122ms\tremaining: 557ms\n",
      "18:\tlearn: 0.6881396\ttotal: 126ms\tremaining: 538ms\n",
      "19:\tlearn: 0.6878969\ttotal: 130ms\tremaining: 522ms\n",
      "20:\tlearn: 0.6876381\ttotal: 139ms\tremaining: 521ms\n",
      "21:\tlearn: 0.6874161\ttotal: 145ms\tremaining: 514ms\n",
      "22:\tlearn: 0.6871903\ttotal: 155ms\tremaining: 519ms\n",
      "23:\tlearn: 0.6869935\ttotal: 158ms\tremaining: 501ms\n",
      "24:\tlearn: 0.6867453\ttotal: 163ms\tremaining: 489ms\n",
      "25:\tlearn: 0.6865287\ttotal: 169ms\tremaining: 480ms\n",
      "26:\tlearn: 0.6863085\ttotal: 172ms\tremaining: 464ms\n",
      "27:\tlearn: 0.6860390\ttotal: 176ms\tremaining: 451ms\n",
      "28:\tlearn: 0.6858109\ttotal: 182ms\tremaining: 447ms\n",
      "29:\tlearn: 0.6855336\ttotal: 187ms\tremaining: 437ms\n",
      "30:\tlearn: 0.6853532\ttotal: 193ms\tremaining: 430ms\n",
      "31:\tlearn: 0.6851095\ttotal: 203ms\tremaining: 431ms\n",
      "32:\tlearn: 0.6849216\ttotal: 209ms\tremaining: 424ms\n",
      "33:\tlearn: 0.6846804\ttotal: 216ms\tremaining: 420ms\n",
      "34:\tlearn: 0.6843695\ttotal: 224ms\tremaining: 416ms\n",
      "35:\tlearn: 0.6840799\ttotal: 235ms\tremaining: 417ms\n",
      "36:\tlearn: 0.6837996\ttotal: 239ms\tremaining: 407ms\n",
      "37:\tlearn: 0.6835379\ttotal: 248ms\tremaining: 405ms\n",
      "38:\tlearn: 0.6833279\ttotal: 253ms\tremaining: 396ms\n",
      "39:\tlearn: 0.6830782\ttotal: 265ms\tremaining: 397ms\n",
      "40:\tlearn: 0.6828843\ttotal: 276ms\tremaining: 397ms\n",
      "41:\tlearn: 0.6826185\ttotal: 281ms\tremaining: 387ms\n",
      "42:\tlearn: 0.6822905\ttotal: 283ms\tremaining: 375ms\n",
      "43:\tlearn: 0.6820413\ttotal: 291ms\tremaining: 371ms\n",
      "44:\tlearn: 0.6817551\ttotal: 298ms\tremaining: 364ms\n",
      "45:\tlearn: 0.6815202\ttotal: 305ms\tremaining: 358ms\n",
      "46:\tlearn: 0.6812310\ttotal: 308ms\tremaining: 347ms\n",
      "47:\tlearn: 0.6809898\ttotal: 311ms\tremaining: 337ms\n",
      "48:\tlearn: 0.6807415\ttotal: 316ms\tremaining: 329ms\n",
      "49:\tlearn: 0.6805427\ttotal: 319ms\tremaining: 319ms\n",
      "50:\tlearn: 0.6803513\ttotal: 324ms\tremaining: 311ms\n",
      "51:\tlearn: 0.6800541\ttotal: 326ms\tremaining: 301ms\n",
      "52:\tlearn: 0.6798221\ttotal: 333ms\tremaining: 295ms\n",
      "53:\tlearn: 0.6795953\ttotal: 337ms\tremaining: 287ms\n",
      "54:\tlearn: 0.6793573\ttotal: 357ms\tremaining: 292ms\n",
      "55:\tlearn: 0.6791118\ttotal: 366ms\tremaining: 288ms\n",
      "56:\tlearn: 0.6788471\ttotal: 371ms\tremaining: 280ms\n",
      "57:\tlearn: 0.6785880\ttotal: 375ms\tremaining: 272ms\n",
      "58:\tlearn: 0.6783563\ttotal: 379ms\tremaining: 263ms\n",
      "59:\tlearn: 0.6781667\ttotal: 382ms\tremaining: 255ms\n",
      "60:\tlearn: 0.6779031\ttotal: 388ms\tremaining: 248ms\n",
      "61:\tlearn: 0.6776865\ttotal: 391ms\tremaining: 240ms\n",
      "62:\tlearn: 0.6774154\ttotal: 394ms\tremaining: 231ms\n",
      "63:\tlearn: 0.6771791\ttotal: 402ms\tremaining: 226ms\n",
      "64:\tlearn: 0.6768583\ttotal: 403ms\tremaining: 217ms\n",
      "65:\tlearn: 0.6766463\ttotal: 409ms\tremaining: 211ms\n",
      "66:\tlearn: 0.6764496\ttotal: 413ms\tremaining: 203ms\n",
      "67:\tlearn: 0.6762033\ttotal: 419ms\tremaining: 197ms\n",
      "68:\tlearn: 0.6759860\ttotal: 428ms\tremaining: 192ms\n",
      "69:\tlearn: 0.6757370\ttotal: 435ms\tremaining: 186ms\n",
      "70:\tlearn: 0.6755609\ttotal: 439ms\tremaining: 179ms\n",
      "71:\tlearn: 0.6753134\ttotal: 447ms\tremaining: 174ms\n",
      "72:\tlearn: 0.6750980\ttotal: 452ms\tremaining: 167ms\n",
      "73:\tlearn: 0.6748608\ttotal: 457ms\tremaining: 160ms\n",
      "74:\tlearn: 0.6746872\ttotal: 470ms\tremaining: 157ms\n",
      "75:\tlearn: 0.6744169\ttotal: 479ms\tremaining: 151ms\n",
      "76:\tlearn: 0.6742165\ttotal: 485ms\tremaining: 145ms\n",
      "77:\tlearn: 0.6739764\ttotal: 493ms\tremaining: 139ms\n",
      "78:\tlearn: 0.6737646\ttotal: 506ms\tremaining: 135ms\n",
      "79:\tlearn: 0.6735124\ttotal: 510ms\tremaining: 127ms\n",
      "80:\tlearn: 0.6732338\ttotal: 526ms\tremaining: 123ms\n",
      "81:\tlearn: 0.6730189\ttotal: 536ms\tremaining: 118ms\n",
      "82:\tlearn: 0.6728296\ttotal: 547ms\tremaining: 112ms\n",
      "83:\tlearn: 0.6726204\ttotal: 552ms\tremaining: 105ms\n",
      "84:\tlearn: 0.6723789\ttotal: 559ms\tremaining: 98.7ms\n",
      "85:\tlearn: 0.6722040\ttotal: 564ms\tremaining: 91.8ms\n",
      "86:\tlearn: 0.6719337\ttotal: 568ms\tremaining: 84.9ms\n",
      "87:\tlearn: 0.6716796\ttotal: 571ms\tremaining: 77.9ms\n",
      "88:\tlearn: 0.6714295\ttotal: 575ms\tremaining: 71.1ms\n",
      "89:\tlearn: 0.6711483\ttotal: 579ms\tremaining: 64.3ms\n",
      "90:\tlearn: 0.6709193\ttotal: 582ms\tremaining: 57.5ms\n",
      "91:\tlearn: 0.6706780\ttotal: 585ms\tremaining: 50.9ms\n",
      "92:\tlearn: 0.6704021\ttotal: 587ms\tremaining: 44.2ms\n",
      "93:\tlearn: 0.6701483\ttotal: 592ms\tremaining: 37.8ms\n",
      "94:\tlearn: 0.6698739\ttotal: 595ms\tremaining: 31.3ms\n",
      "95:\tlearn: 0.6695927\ttotal: 599ms\tremaining: 25ms\n",
      "96:\tlearn: 0.6693172\ttotal: 610ms\tremaining: 18.9ms\n",
      "97:\tlearn: 0.6690853\ttotal: 616ms\tremaining: 12.6ms\n",
      "98:\tlearn: 0.6688644\ttotal: 620ms\tremaining: 6.26ms\n",
      "99:\tlearn: 0.6686883\ttotal: 626ms\tremaining: 0us\n",
      "0:\tlearn: 0.6928698\ttotal: 4.01ms\tremaining: 397ms\n",
      "1:\tlearn: 0.6925982\ttotal: 13.6ms\tremaining: 664ms\n",
      "2:\tlearn: 0.6923235\ttotal: 17ms\tremaining: 549ms\n",
      "3:\tlearn: 0.6920708\ttotal: 20.1ms\tremaining: 483ms\n",
      "4:\tlearn: 0.6918350\ttotal: 25.6ms\tremaining: 486ms\n",
      "5:\tlearn: 0.6916040\ttotal: 28.7ms\tremaining: 450ms\n",
      "6:\tlearn: 0.6913330\ttotal: 33.1ms\tremaining: 440ms\n",
      "7:\tlearn: 0.6910980\ttotal: 41.5ms\tremaining: 477ms\n",
      "8:\tlearn: 0.6908545\ttotal: 50ms\tremaining: 505ms\n",
      "9:\tlearn: 0.6906453\ttotal: 58.4ms\tremaining: 526ms\n",
      "10:\tlearn: 0.6904266\ttotal: 66.7ms\tremaining: 540ms\n",
      "11:\tlearn: 0.6901695\ttotal: 71.5ms\tremaining: 524ms\n",
      "12:\tlearn: 0.6899179\ttotal: 74.3ms\tremaining: 497ms\n",
      "13:\tlearn: 0.6896552\ttotal: 86.2ms\tremaining: 529ms\n",
      "14:\tlearn: 0.6894348\ttotal: 90.1ms\tremaining: 510ms\n",
      "15:\tlearn: 0.6892494\ttotal: 104ms\tremaining: 544ms\n",
      "16:\tlearn: 0.6890083\ttotal: 107ms\tremaining: 521ms\n",
      "17:\tlearn: 0.6888226\ttotal: 115ms\tremaining: 523ms\n",
      "18:\tlearn: 0.6885765\ttotal: 119ms\tremaining: 506ms\n",
      "19:\tlearn: 0.6883400\ttotal: 123ms\tremaining: 494ms\n",
      "20:\tlearn: 0.6881099\ttotal: 132ms\tremaining: 495ms\n",
      "21:\tlearn: 0.6878808\ttotal: 134ms\tremaining: 474ms\n",
      "22:\tlearn: 0.6876922\ttotal: 145ms\tremaining: 484ms\n",
      "23:\tlearn: 0.6874540\ttotal: 164ms\tremaining: 520ms\n",
      "24:\tlearn: 0.6871929\ttotal: 169ms\tremaining: 506ms\n",
      "25:\tlearn: 0.6869966\ttotal: 174ms\tremaining: 496ms\n",
      "26:\tlearn: 0.6867988\ttotal: 178ms\tremaining: 482ms\n",
      "27:\tlearn: 0.6865556\ttotal: 183ms\tremaining: 471ms\n",
      "28:\tlearn: 0.6863106\ttotal: 194ms\tremaining: 474ms\n",
      "29:\tlearn: 0.6860752\ttotal: 210ms\tremaining: 491ms\n",
      "30:\tlearn: 0.6858058\ttotal: 214ms\tremaining: 476ms\n",
      "31:\tlearn: 0.6856127\ttotal: 223ms\tremaining: 473ms\n",
      "32:\tlearn: 0.6853533\ttotal: 227ms\tremaining: 461ms\n",
      "33:\tlearn: 0.6850674\ttotal: 232ms\tremaining: 450ms\n",
      "34:\tlearn: 0.6848022\ttotal: 239ms\tremaining: 443ms\n",
      "35:\tlearn: 0.6846083\ttotal: 241ms\tremaining: 429ms\n",
      "36:\tlearn: 0.6843525\ttotal: 254ms\tremaining: 433ms\n",
      "37:\tlearn: 0.6841660\ttotal: 258ms\tremaining: 421ms\n",
      "38:\tlearn: 0.6839391\ttotal: 260ms\tremaining: 407ms\n",
      "39:\tlearn: 0.6837582\ttotal: 269ms\tremaining: 403ms\n",
      "40:\tlearn: 0.6835226\ttotal: 275ms\tremaining: 396ms\n",
      "41:\tlearn: 0.6832782\ttotal: 279ms\tremaining: 385ms\n",
      "42:\tlearn: 0.6829842\ttotal: 288ms\tremaining: 382ms\n",
      "43:\tlearn: 0.6827564\ttotal: 299ms\tremaining: 381ms\n",
      "44:\tlearn: 0.6825118\ttotal: 307ms\tremaining: 375ms\n",
      "45:\tlearn: 0.6822383\ttotal: 314ms\tremaining: 369ms\n",
      "46:\tlearn: 0.6820429\ttotal: 318ms\tremaining: 359ms\n",
      "47:\tlearn: 0.6818208\ttotal: 324ms\tremaining: 350ms\n",
      "48:\tlearn: 0.6816058\ttotal: 330ms\tremaining: 343ms\n",
      "49:\tlearn: 0.6813634\ttotal: 370ms\tremaining: 370ms\n",
      "50:\tlearn: 0.6811401\ttotal: 376ms\tremaining: 361ms\n",
      "51:\tlearn: 0.6809187\ttotal: 379ms\tremaining: 350ms\n",
      "52:\tlearn: 0.6807071\ttotal: 387ms\tremaining: 344ms\n",
      "53:\tlearn: 0.6804845\ttotal: 392ms\tremaining: 334ms\n",
      "54:\tlearn: 0.6802205\ttotal: 395ms\tremaining: 323ms\n",
      "55:\tlearn: 0.6799415\ttotal: 397ms\tremaining: 312ms\n",
      "56:\tlearn: 0.6796999\ttotal: 406ms\tremaining: 306ms\n",
      "57:\tlearn: 0.6794927\ttotal: 407ms\tremaining: 295ms\n",
      "58:\tlearn: 0.6792846\ttotal: 412ms\tremaining: 286ms\n",
      "59:\tlearn: 0.6790488\ttotal: 416ms\tremaining: 277ms\n",
      "60:\tlearn: 0.6788227\ttotal: 472ms\tremaining: 302ms\n",
      "61:\tlearn: 0.6785482\ttotal: 482ms\tremaining: 296ms\n",
      "62:\tlearn: 0.6783238\ttotal: 486ms\tremaining: 286ms\n",
      "63:\tlearn: 0.6780235\ttotal: 489ms\tremaining: 275ms\n",
      "64:\tlearn: 0.6777737\ttotal: 493ms\tremaining: 265ms\n",
      "65:\tlearn: 0.6775369\ttotal: 500ms\tremaining: 258ms\n",
      "66:\tlearn: 0.6773386\ttotal: 505ms\tremaining: 249ms\n",
      "67:\tlearn: 0.6771005\ttotal: 508ms\tremaining: 239ms\n",
      "68:\tlearn: 0.6769004\ttotal: 513ms\tremaining: 231ms\n",
      "69:\tlearn: 0.6767042\ttotal: 516ms\tremaining: 221ms\n",
      "70:\tlearn: 0.6764511\ttotal: 520ms\tremaining: 212ms\n",
      "71:\tlearn: 0.6762103\ttotal: 533ms\tremaining: 207ms\n",
      "72:\tlearn: 0.6759534\ttotal: 536ms\tremaining: 198ms\n",
      "73:\tlearn: 0.6757356\ttotal: 538ms\tremaining: 189ms\n",
      "74:\tlearn: 0.6754849\ttotal: 545ms\tremaining: 182ms\n",
      "75:\tlearn: 0.6753077\ttotal: 548ms\tremaining: 173ms\n",
      "76:\tlearn: 0.6750256\ttotal: 550ms\tremaining: 164ms\n",
      "77:\tlearn: 0.6748093\ttotal: 554ms\tremaining: 156ms\n",
      "78:\tlearn: 0.6745813\ttotal: 562ms\tremaining: 149ms\n",
      "79:\tlearn: 0.6743621\ttotal: 566ms\tremaining: 141ms\n",
      "80:\tlearn: 0.6741415\ttotal: 573ms\tremaining: 135ms\n",
      "81:\tlearn: 0.6739304\ttotal: 576ms\tremaining: 126ms\n",
      "82:\tlearn: 0.6736570\ttotal: 578ms\tremaining: 118ms\n",
      "83:\tlearn: 0.6734845\ttotal: 581ms\tremaining: 111ms\n",
      "84:\tlearn: 0.6732228\ttotal: 583ms\tremaining: 103ms\n",
      "85:\tlearn: 0.6730315\ttotal: 589ms\tremaining: 95.8ms\n",
      "86:\tlearn: 0.6728210\ttotal: 592ms\tremaining: 88.5ms\n",
      "87:\tlearn: 0.6725775\ttotal: 596ms\tremaining: 81.3ms\n",
      "88:\tlearn: 0.6723776\ttotal: 602ms\tremaining: 74.4ms\n",
      "89:\tlearn: 0.6721090\ttotal: 606ms\tremaining: 67.4ms\n",
      "90:\tlearn: 0.6719135\ttotal: 609ms\tremaining: 60.3ms\n",
      "91:\tlearn: 0.6716505\ttotal: 612ms\tremaining: 53.2ms\n",
      "92:\tlearn: 0.6713491\ttotal: 618ms\tremaining: 46.5ms\n",
      "93:\tlearn: 0.6711430\ttotal: 620ms\tremaining: 39.6ms\n",
      "94:\tlearn: 0.6709056\ttotal: 625ms\tremaining: 32.9ms\n",
      "95:\tlearn: 0.6706544\ttotal: 629ms\tremaining: 26.2ms\n",
      "96:\tlearn: 0.6704117\ttotal: 637ms\tremaining: 19.7ms\n",
      "97:\tlearn: 0.6701147\ttotal: 639ms\tremaining: 13ms\n",
      "98:\tlearn: 0.6699116\ttotal: 642ms\tremaining: 6.49ms\n",
      "99:\tlearn: 0.6697385\ttotal: 647ms\tremaining: 0us\n",
      "0:\tlearn: 0.6928448\ttotal: 7.94ms\tremaining: 786ms\n",
      "1:\tlearn: 0.6925519\ttotal: 11.7ms\tremaining: 573ms\n",
      "2:\tlearn: 0.6922479\ttotal: 14.7ms\tremaining: 474ms\n",
      "3:\tlearn: 0.6919531\ttotal: 18.3ms\tremaining: 440ms\n",
      "4:\tlearn: 0.6916612\ttotal: 27ms\tremaining: 513ms\n",
      "5:\tlearn: 0.6913870\ttotal: 32ms\tremaining: 502ms\n",
      "6:\tlearn: 0.6910726\ttotal: 35ms\tremaining: 465ms\n",
      "7:\tlearn: 0.6908323\ttotal: 37.8ms\tremaining: 435ms\n",
      "8:\tlearn: 0.6905430\ttotal: 40.7ms\tremaining: 412ms\n",
      "9:\tlearn: 0.6903118\ttotal: 43.2ms\tremaining: 389ms\n",
      "10:\tlearn: 0.6900549\ttotal: 52ms\tremaining: 421ms\n",
      "11:\tlearn: 0.6897782\ttotal: 59.1ms\tremaining: 434ms\n",
      "12:\tlearn: 0.6895738\ttotal: 70.5ms\tremaining: 472ms\n",
      "13:\tlearn: 0.6891939\ttotal: 72.3ms\tremaining: 444ms\n",
      "14:\tlearn: 0.6889028\ttotal: 77.6ms\tremaining: 440ms\n",
      "15:\tlearn: 0.6886119\ttotal: 83ms\tremaining: 436ms\n",
      "16:\tlearn: 0.6882788\ttotal: 85.9ms\tremaining: 419ms\n",
      "17:\tlearn: 0.6880423\ttotal: 94.9ms\tremaining: 432ms\n",
      "18:\tlearn: 0.6877646\ttotal: 100ms\tremaining: 428ms\n",
      "19:\tlearn: 0.6874522\ttotal: 102ms\tremaining: 410ms\n",
      "20:\tlearn: 0.6871667\ttotal: 110ms\tremaining: 416ms\n",
      "21:\tlearn: 0.6869134\ttotal: 114ms\tremaining: 405ms\n",
      "22:\tlearn: 0.6866852\ttotal: 119ms\tremaining: 398ms\n",
      "23:\tlearn: 0.6864567\ttotal: 126ms\tremaining: 398ms\n",
      "24:\tlearn: 0.6861935\ttotal: 128ms\tremaining: 385ms\n",
      "25:\tlearn: 0.6858921\ttotal: 130ms\tremaining: 371ms\n",
      "26:\tlearn: 0.6855874\ttotal: 134ms\tremaining: 361ms\n",
      "27:\tlearn: 0.6852988\ttotal: 138ms\tremaining: 355ms\n",
      "28:\tlearn: 0.6850824\ttotal: 139ms\tremaining: 340ms\n",
      "29:\tlearn: 0.6848163\ttotal: 142ms\tremaining: 331ms\n",
      "30:\tlearn: 0.6845476\ttotal: 145ms\tremaining: 322ms\n",
      "31:\tlearn: 0.6842129\ttotal: 147ms\tremaining: 312ms\n",
      "32:\tlearn: 0.6840077\ttotal: 153ms\tremaining: 311ms\n",
      "33:\tlearn: 0.6837877\ttotal: 155ms\tremaining: 301ms\n",
      "34:\tlearn: 0.6835219\ttotal: 158ms\tremaining: 294ms\n",
      "35:\tlearn: 0.6832673\ttotal: 163ms\tremaining: 289ms\n",
      "36:\tlearn: 0.6829689\ttotal: 165ms\tremaining: 280ms\n",
      "37:\tlearn: 0.6826432\ttotal: 167ms\tremaining: 272ms\n",
      "38:\tlearn: 0.6823643\ttotal: 177ms\tremaining: 277ms\n",
      "39:\tlearn: 0.6820748\ttotal: 180ms\tremaining: 270ms\n",
      "40:\tlearn: 0.6817357\ttotal: 181ms\tremaining: 261ms\n",
      "41:\tlearn: 0.6814025\ttotal: 183ms\tremaining: 252ms\n",
      "42:\tlearn: 0.6811391\ttotal: 185ms\tremaining: 245ms\n",
      "43:\tlearn: 0.6808456\ttotal: 192ms\tremaining: 244ms\n",
      "44:\tlearn: 0.6805264\ttotal: 195ms\tremaining: 238ms\n",
      "45:\tlearn: 0.6802926\ttotal: 198ms\tremaining: 232ms\n",
      "46:\tlearn: 0.6800439\ttotal: 200ms\tremaining: 226ms\n",
      "47:\tlearn: 0.6797792\ttotal: 205ms\tremaining: 222ms\n",
      "48:\tlearn: 0.6795432\ttotal: 208ms\tremaining: 216ms\n",
      "49:\tlearn: 0.6792691\ttotal: 211ms\tremaining: 211ms\n",
      "50:\tlearn: 0.6789607\ttotal: 222ms\tremaining: 213ms\n",
      "51:\tlearn: 0.6787284\ttotal: 229ms\tremaining: 211ms\n",
      "52:\tlearn: 0.6784503\ttotal: 232ms\tremaining: 206ms\n",
      "53:\tlearn: 0.6781635\ttotal: 241ms\tremaining: 205ms\n",
      "54:\tlearn: 0.6778466\ttotal: 247ms\tremaining: 202ms\n",
      "55:\tlearn: 0.6774844\ttotal: 253ms\tremaining: 199ms\n",
      "56:\tlearn: 0.6772726\ttotal: 257ms\tremaining: 194ms\n",
      "57:\tlearn: 0.6769720\ttotal: 261ms\tremaining: 189ms\n",
      "58:\tlearn: 0.6767120\ttotal: 264ms\tremaining: 183ms\n",
      "59:\tlearn: 0.6764489\ttotal: 266ms\tremaining: 177ms\n",
      "60:\tlearn: 0.6762064\ttotal: 269ms\tremaining: 172ms\n",
      "61:\tlearn: 0.6759099\ttotal: 271ms\tremaining: 166ms\n",
      "62:\tlearn: 0.6756383\ttotal: 273ms\tremaining: 160ms\n",
      "63:\tlearn: 0.6753492\ttotal: 276ms\tremaining: 155ms\n",
      "64:\tlearn: 0.6750560\ttotal: 278ms\tremaining: 150ms\n",
      "65:\tlearn: 0.6747396\ttotal: 287ms\tremaining: 148ms\n",
      "66:\tlearn: 0.6745042\ttotal: 290ms\tremaining: 143ms\n",
      "67:\tlearn: 0.6742152\ttotal: 291ms\tremaining: 137ms\n",
      "68:\tlearn: 0.6739455\ttotal: 294ms\tremaining: 132ms\n",
      "69:\tlearn: 0.6737059\ttotal: 302ms\tremaining: 129ms\n",
      "70:\tlearn: 0.6733839\ttotal: 304ms\tremaining: 124ms\n",
      "71:\tlearn: 0.6731494\ttotal: 308ms\tremaining: 120ms\n",
      "72:\tlearn: 0.6728938\ttotal: 316ms\tremaining: 117ms\n",
      "73:\tlearn: 0.6726434\ttotal: 320ms\tremaining: 113ms\n",
      "74:\tlearn: 0.6723576\ttotal: 323ms\tremaining: 108ms\n",
      "75:\tlearn: 0.6721420\ttotal: 330ms\tremaining: 104ms\n",
      "76:\tlearn: 0.6719082\ttotal: 336ms\tremaining: 100ms\n",
      "77:\tlearn: 0.6716015\ttotal: 341ms\tremaining: 96.2ms\n",
      "78:\tlearn: 0.6713189\ttotal: 345ms\tremaining: 91.6ms\n",
      "79:\tlearn: 0.6710447\ttotal: 347ms\tremaining: 86.6ms\n",
      "80:\tlearn: 0.6708215\ttotal: 349ms\tremaining: 81.8ms\n",
      "81:\tlearn: 0.6706067\ttotal: 355ms\tremaining: 77.9ms\n",
      "82:\tlearn: 0.6703727\ttotal: 357ms\tremaining: 73.2ms\n",
      "83:\tlearn: 0.6701500\ttotal: 365ms\tremaining: 69.5ms\n",
      "84:\tlearn: 0.6698338\ttotal: 374ms\tremaining: 65.9ms\n",
      "85:\tlearn: 0.6695606\ttotal: 376ms\tremaining: 61.2ms\n",
      "86:\tlearn: 0.6692952\ttotal: 380ms\tremaining: 56.8ms\n",
      "87:\tlearn: 0.6690107\ttotal: 385ms\tremaining: 52.5ms\n",
      "88:\tlearn: 0.6687669\ttotal: 392ms\tremaining: 48.4ms\n",
      "89:\tlearn: 0.6685122\ttotal: 396ms\tremaining: 44ms\n",
      "90:\tlearn: 0.6682443\ttotal: 416ms\tremaining: 41.1ms\n",
      "91:\tlearn: 0.6679873\ttotal: 422ms\tremaining: 36.7ms\n",
      "92:\tlearn: 0.6678023\ttotal: 423ms\tremaining: 31.9ms\n",
      "93:\tlearn: 0.6675268\ttotal: 440ms\tremaining: 28.1ms\n",
      "94:\tlearn: 0.6672665\ttotal: 451ms\tremaining: 23.7ms\n",
      "95:\tlearn: 0.6670246\ttotal: 454ms\tremaining: 18.9ms\n",
      "96:\tlearn: 0.6667592\ttotal: 456ms\tremaining: 14.1ms\n",
      "97:\tlearn: 0.6665217\ttotal: 461ms\tremaining: 9.4ms\n",
      "98:\tlearn: 0.6662668\ttotal: 466ms\tremaining: 4.7ms\n",
      "99:\tlearn: 0.6660243\ttotal: 470ms\tremaining: 0us\n",
      "0:\tlearn: 0.6928529\ttotal: 8.51ms\tremaining: 842ms\n",
      "1:\tlearn: 0.6925904\ttotal: 11.5ms\tremaining: 562ms\n",
      "2:\tlearn: 0.6923588\ttotal: 17.3ms\tremaining: 559ms\n",
      "3:\tlearn: 0.6920998\ttotal: 28.6ms\tremaining: 687ms\n",
      "4:\tlearn: 0.6918439\ttotal: 36.3ms\tremaining: 690ms\n",
      "5:\tlearn: 0.6915823\ttotal: 40.2ms\tremaining: 630ms\n",
      "6:\tlearn: 0.6912893\ttotal: 44.3ms\tremaining: 589ms\n",
      "7:\tlearn: 0.6910739\ttotal: 48.2ms\tremaining: 554ms\n",
      "8:\tlearn: 0.6907817\ttotal: 54.4ms\tremaining: 550ms\n",
      "9:\tlearn: 0.6905646\ttotal: 57.1ms\tremaining: 514ms\n",
      "10:\tlearn: 0.6902814\ttotal: 59.5ms\tremaining: 481ms\n",
      "11:\tlearn: 0.6900729\ttotal: 61.8ms\tremaining: 453ms\n",
      "12:\tlearn: 0.6898397\ttotal: 71.2ms\tremaining: 477ms\n",
      "13:\tlearn: 0.6894961\ttotal: 79.2ms\tremaining: 487ms\n",
      "14:\tlearn: 0.6892264\ttotal: 84.9ms\tremaining: 481ms\n",
      "15:\tlearn: 0.6889994\ttotal: 88.4ms\tremaining: 464ms\n",
      "16:\tlearn: 0.6887149\ttotal: 90.9ms\tremaining: 444ms\n",
      "17:\tlearn: 0.6884560\ttotal: 93.9ms\tremaining: 428ms\n",
      "18:\tlearn: 0.6881942\ttotal: 102ms\tremaining: 436ms\n",
      "19:\tlearn: 0.6879188\ttotal: 103ms\tremaining: 414ms\n",
      "20:\tlearn: 0.6876498\ttotal: 105ms\tremaining: 395ms\n",
      "21:\tlearn: 0.6874021\ttotal: 107ms\tremaining: 379ms\n",
      "22:\tlearn: 0.6872233\ttotal: 109ms\tremaining: 364ms\n",
      "23:\tlearn: 0.6869919\ttotal: 119ms\tremaining: 378ms\n",
      "24:\tlearn: 0.6867828\ttotal: 124ms\tremaining: 371ms\n",
      "25:\tlearn: 0.6864750\ttotal: 131ms\tremaining: 373ms\n",
      "26:\tlearn: 0.6862039\ttotal: 134ms\tremaining: 361ms\n",
      "27:\tlearn: 0.6859393\ttotal: 136ms\tremaining: 350ms\n",
      "28:\tlearn: 0.6856996\ttotal: 139ms\tremaining: 340ms\n",
      "29:\tlearn: 0.6854014\ttotal: 141ms\tremaining: 330ms\n",
      "30:\tlearn: 0.6851738\ttotal: 148ms\tremaining: 328ms\n",
      "31:\tlearn: 0.6849446\ttotal: 150ms\tremaining: 319ms\n",
      "32:\tlearn: 0.6846967\ttotal: 152ms\tremaining: 309ms\n",
      "33:\tlearn: 0.6844487\ttotal: 154ms\tremaining: 299ms\n",
      "34:\tlearn: 0.6841716\ttotal: 161ms\tremaining: 300ms\n",
      "35:\tlearn: 0.6838838\ttotal: 167ms\tremaining: 297ms\n",
      "36:\tlearn: 0.6836615\ttotal: 169ms\tremaining: 287ms\n",
      "37:\tlearn: 0.6834758\ttotal: 171ms\tremaining: 278ms\n",
      "38:\tlearn: 0.6832504\ttotal: 180ms\tremaining: 282ms\n",
      "39:\tlearn: 0.6830358\ttotal: 183ms\tremaining: 274ms\n",
      "40:\tlearn: 0.6828091\ttotal: 192ms\tremaining: 277ms\n",
      "41:\tlearn: 0.6825271\ttotal: 195ms\tremaining: 269ms\n",
      "42:\tlearn: 0.6822020\ttotal: 196ms\tremaining: 260ms\n",
      "43:\tlearn: 0.6819993\ttotal: 198ms\tremaining: 252ms\n",
      "44:\tlearn: 0.6817564\ttotal: 200ms\tremaining: 244ms\n",
      "45:\tlearn: 0.6815144\ttotal: 213ms\tremaining: 250ms\n",
      "46:\tlearn: 0.6812128\ttotal: 215ms\tremaining: 242ms\n",
      "47:\tlearn: 0.6810206\ttotal: 216ms\tremaining: 234ms\n",
      "48:\tlearn: 0.6808232\ttotal: 225ms\tremaining: 234ms\n",
      "49:\tlearn: 0.6805723\ttotal: 227ms\tremaining: 227ms\n",
      "50:\tlearn: 0.6803718\ttotal: 227ms\tremaining: 219ms\n",
      "51:\tlearn: 0.6800952\ttotal: 243ms\tremaining: 224ms\n",
      "52:\tlearn: 0.6798981\ttotal: 248ms\tremaining: 220ms\n",
      "53:\tlearn: 0.6796248\ttotal: 255ms\tremaining: 217ms\n",
      "54:\tlearn: 0.6793802\ttotal: 258ms\tremaining: 211ms\n",
      "55:\tlearn: 0.6790367\ttotal: 260ms\tremaining: 204ms\n",
      "56:\tlearn: 0.6788191\ttotal: 264ms\tremaining: 199ms\n",
      "57:\tlearn: 0.6785603\ttotal: 269ms\tremaining: 195ms\n",
      "58:\tlearn: 0.6783211\ttotal: 272ms\tremaining: 189ms\n",
      "59:\tlearn: 0.6781282\ttotal: 276ms\tremaining: 184ms\n",
      "60:\tlearn: 0.6778929\ttotal: 279ms\tremaining: 178ms\n",
      "61:\tlearn: 0.6775983\ttotal: 287ms\tremaining: 176ms\n",
      "62:\tlearn: 0.6773369\ttotal: 294ms\tremaining: 173ms\n",
      "63:\tlearn: 0.6770923\ttotal: 296ms\tremaining: 167ms\n",
      "64:\tlearn: 0.6768731\ttotal: 299ms\tremaining: 161ms\n",
      "65:\tlearn: 0.6765571\ttotal: 306ms\tremaining: 158ms\n",
      "66:\tlearn: 0.6762183\ttotal: 308ms\tremaining: 152ms\n",
      "67:\tlearn: 0.6760038\ttotal: 312ms\tremaining: 147ms\n",
      "68:\tlearn: 0.6757777\ttotal: 315ms\tremaining: 142ms\n",
      "69:\tlearn: 0.6755074\ttotal: 317ms\tremaining: 136ms\n",
      "70:\tlearn: 0.6752056\ttotal: 321ms\tremaining: 131ms\n",
      "71:\tlearn: 0.6749380\ttotal: 324ms\tremaining: 126ms\n",
      "72:\tlearn: 0.6747229\ttotal: 327ms\tremaining: 121ms\n",
      "73:\tlearn: 0.6745088\ttotal: 330ms\tremaining: 116ms\n",
      "74:\tlearn: 0.6742450\ttotal: 332ms\tremaining: 111ms\n",
      "75:\tlearn: 0.6739763\ttotal: 406ms\tremaining: 128ms\n",
      "76:\tlearn: 0.6736725\ttotal: 409ms\tremaining: 122ms\n",
      "77:\tlearn: 0.6733799\ttotal: 415ms\tremaining: 117ms\n",
      "78:\tlearn: 0.6731369\ttotal: 418ms\tremaining: 111ms\n",
      "79:\tlearn: 0.6729034\ttotal: 420ms\tremaining: 105ms\n",
      "80:\tlearn: 0.6726562\ttotal: 425ms\tremaining: 99.6ms\n",
      "81:\tlearn: 0.6724541\ttotal: 428ms\tremaining: 94ms\n",
      "82:\tlearn: 0.6721786\ttotal: 432ms\tremaining: 88.4ms\n",
      "83:\tlearn: 0.6719542\ttotal: 434ms\tremaining: 82.8ms\n",
      "84:\tlearn: 0.6717178\ttotal: 437ms\tremaining: 77.1ms\n",
      "85:\tlearn: 0.6714837\ttotal: 439ms\tremaining: 71.5ms\n",
      "86:\tlearn: 0.6712242\ttotal: 445ms\tremaining: 66.4ms\n",
      "87:\tlearn: 0.6709578\ttotal: 475ms\tremaining: 64.7ms\n",
      "88:\tlearn: 0.6707898\ttotal: 485ms\tremaining: 59.9ms\n",
      "89:\tlearn: 0.6704989\ttotal: 491ms\tremaining: 54.6ms\n",
      "90:\tlearn: 0.6702665\ttotal: 500ms\tremaining: 49.5ms\n",
      "91:\tlearn: 0.6700244\ttotal: 504ms\tremaining: 43.8ms\n",
      "92:\tlearn: 0.6698150\ttotal: 507ms\tremaining: 38.2ms\n",
      "93:\tlearn: 0.6695814\ttotal: 510ms\tremaining: 32.5ms\n",
      "94:\tlearn: 0.6693496\ttotal: 512ms\tremaining: 26.9ms\n",
      "95:\tlearn: 0.6691443\ttotal: 518ms\tremaining: 21.6ms\n",
      "96:\tlearn: 0.6689673\ttotal: 520ms\tremaining: 16.1ms\n",
      "97:\tlearn: 0.6686943\ttotal: 523ms\tremaining: 10.7ms\n",
      "98:\tlearn: 0.6684551\ttotal: 526ms\tremaining: 5.31ms\n",
      "99:\tlearn: 0.6682711\ttotal: 561ms\tremaining: 0us\n",
      "Crossvalidation fold: 0  Accruacy: 0.8367346938775511\n",
      "Crossvalidation fold: 1  Accruacy: 0.7959183673469388\n",
      "Crossvalidation fold: 2  Accruacy: 0.875\n",
      "Crossvalidation fold: 3  Accruacy: 0.7916666666666666\n",
      "Crossvalidation fold: 4  Accruacy: 0.7916666666666666\n",
      "Mean train cross validation score 0.8181972789115646\n"
     ]
    }
   ],
   "source": [
    "# cross validating\n",
    "cv=cross_validate(cat, x_train, y_train, return_estimator=True, cv=5)\n",
    "\n",
    "        #print out cross validation scores\n",
    "[print('Crossvalidation fold: {}  Accruacy: {}'.format(n, score)) for n, score in enumerate(cv['test_score'])]\n",
    "        #print out the mean of the cross validation\n",
    "print('Mean train cross validation score {}'.format(cv['test_score'].mean()))"
   ]
  },
  {
   "cell_type": "code",
   "execution_count": 62,
   "metadata": {},
   "outputs": [],
   "source": [
    "# GridSearch\n",
    "\n",
    "params = {#'iterations': [500],\n",
    "          'depth': [4, 5, 6],\n",
    "          'loss_function': ['Logloss', 'CrossEntropy'],\n",
    "          'l2_leaf_reg': np.logspace(-20, -19, 3),\n",
    "          'leaf_estimation_iterations': [10],\n",
    "#           'eval_metric': ['Accuracy'],\n",
    "#           'use_best_model': ['True'],\n",
    "          'logging_level':['Silent'],\n",
    "          #'random_seed': [0]\n",
    "         }\n",
    "scorer = make_scorer(accuracy_score)\n",
    "cat_grid= GridSearchCV(estimator=cat, param_grid=params, scoring=scorer, cv=5)\n"
   ]
  },
  {
   "cell_type": "code",
   "execution_count": 63,
   "metadata": {},
   "outputs": [
    {
     "data": {
      "text/plain": [
       "{'depth': 5,\n",
       " 'l2_leaf_reg': 1e-20,\n",
       " 'leaf_estimation_iterations': 10,\n",
       " 'logging_level': 'Silent',\n",
       " 'loss_function': 'Logloss'}"
      ]
     },
     "execution_count": 63,
     "metadata": {},
     "output_type": "execute_result"
    }
   ],
   "source": [
    "cat_grid.fit(x_train, y_train)\n",
    "best_param = cat_grid.best_params_\n",
    "best_param"
   ]
  },
  {
   "cell_type": "markdown",
   "metadata": {},
   "source": []
  },
  {
   "cell_type": "code",
   "execution_count": null,
   "metadata": {},
   "outputs": [],
   "source": []
  },
  {
   "cell_type": "markdown",
   "metadata": {},
   "source": [
    "fitting the best model"
   ]
  },
  {
   "cell_type": "code",
   "execution_count": 64,
   "metadata": {},
   "outputs": [],
   "source": [
    "model_cat = CatBoostClassifier(iterations=1000,\n",
    "                           loss_function=best_param['loss_function'],\n",
    "                           depth=best_param['depth'],\n",
    "                           l2_leaf_reg=best_param['l2_leaf_reg'],\n",
    "                           eval_metric='Accuracy',\n",
    "                           leaf_estimation_iterations=10,\n",
    "                           #use_best_model=True,\n",
    "                           logging_level='Silent',\n",
    "                           random_seed=0, \n",
    "                        allow_writing_files=False\n",
    "                          )"
   ]
  },
  {
   "cell_type": "code",
   "execution_count": 65,
   "metadata": {},
   "outputs": [
    {
     "data": {
      "text/plain": [
       "<catboost.core.CatBoostClassifier at 0x15d86f6f3a0>"
      ]
     },
     "execution_count": 65,
     "metadata": {},
     "output_type": "execute_result"
    }
   ],
   "source": [
    "model_cat.fit(x_train, y_train)\n"
   ]
  },
  {
   "cell_type": "code",
   "execution_count": 66,
   "metadata": {},
   "outputs": [],
   "source": [
    "pred=model_cat.predict(x_test)"
   ]
  },
  {
   "cell_type": "code",
   "execution_count": 67,
   "metadata": {},
   "outputs": [
    {
     "data": {
      "text/plain": [
       "0.8360655737704918"
      ]
     },
     "execution_count": 67,
     "metadata": {},
     "output_type": "execute_result"
    }
   ],
   "source": [
    "model_cat.score(x_test, y_test)"
   ]
  },
  {
   "cell_type": "code",
   "execution_count": 68,
   "metadata": {},
   "outputs": [
    {
     "name": "stderr",
     "output_type": "stream",
     "text": [
      "C:\\Users\\KINGSLEY\\Anaconda3\\Anaconda\\envs\\kingsley\\lib\\site-packages\\sklearn\\utils\\deprecation.py:87: FutureWarning: Function plot_confusion_matrix is deprecated; Function `plot_confusion_matrix` is deprecated in 1.0 and will be removed in 1.2. Use one of the class methods: ConfusionMatrixDisplay.from_predictions or ConfusionMatrixDisplay.from_estimator.\n",
      "  warnings.warn(msg, category=FutureWarning)\n"
     ]
    },
    {
     "data": {
      "text/plain": [
       "<sklearn.metrics._plot.confusion_matrix.ConfusionMatrixDisplay at 0x15d86f535b0>"
      ]
     },
     "execution_count": 68,
     "metadata": {},
     "output_type": "execute_result"
    },
    {
     "data": {
      "image/png": "[encoded data removed]",
      "text/plain": [
       "<Figure size 432x288 with 2 Axes>"
      ]
     },
     "metadata": {
      "needs_background": "light"
     },
     "output_type": "display_data"
    }
   ],
   "source": [
    "plot_confusion_matrix(model_cat, x_test, y_test)"
   ]
  },
  {
   "cell_type": "code",
   "execution_count": 48,
   "metadata": {},
   "outputs": [
    {
     "name": "stdout",
     "output_type": "stream",
     "text": [
      "Crossvalidation fold: 0  Accruacy: 0.7543859649122807\n",
      "Crossvalidation fold: 1  Accruacy: 0.8070175438596491\n",
      "Crossvalidation fold: 2  Accruacy: 0.8070175438596491\n",
      "Crossvalidation fold: 3  Accruacy: 0.8392857142857143\n",
      "Crossvalidation fold: 4  Accruacy: 0.6964285714285714\n",
      "Mean train cross validation score 0.7808270676691729\n"
     ]
    }
   ],
   "source": [
    "cv=cross_validate(model_cat, x_train, y_train, return_estimator=True, cv=5)\n",
    "\n",
    "        #print out cross validation scores\n",
    "[print('Crossvalidation fold: {}  Accruacy: {}'.format(n, score)) for n, score in enumerate(cv['test_score'])]\n",
    "        #print out the mean of the cross validation\n",
    "print('Mean train cross validation score {}'.format(cv['test_score'].mean()))"
   ]
  },
  {
   "cell_type": "code",
   "execution_count": 69,
   "metadata": {},
   "outputs": [
    {
     "name": "stdout",
     "output_type": "stream",
     "text": [
      "              precision    recall  f1-score   support\n",
      "\n",
      "           0       0.82      0.82      0.82        28\n",
      "           1       0.85      0.85      0.85        33\n",
      "\n",
      "    accuracy                           0.84        61\n",
      "   macro avg       0.83      0.83      0.83        61\n",
      "weighted avg       0.84      0.84      0.84        61\n",
      "\n"
     ]
    }
   ],
   "source": [
    "from sklearn.metrics import classification_report\n",
    "\n",
    "print(classification_report(y_test, pred))"
   ]
  },
  {
   "cell_type": "code",
   "execution_count": 70,
   "metadata": {},
   "outputs": [
    {
     "name": "stdout",
     "output_type": "stream",
     "text": [
      "              precision    recall  f1-score   support\n",
      "\n",
      "           0       0.92      0.79      0.85        28\n",
      "           1       0.84      0.94      0.89        33\n",
      "\n",
      "    accuracy                           0.87        61\n",
      "   macro avg       0.88      0.86      0.87        61\n",
      "weighted avg       0.87      0.87      0.87        61\n",
      "\n"
     ]
    }
   ],
   "source": [
    "print(classification_report(y_test,prediction ))"
   ]
  },
  {
   "cell_type": "markdown",
   "metadata": {},
   "source": [
    "# ExtraTreesClassifier"
   ]
  },
  {
   "cell_type": "code",
   "execution_count": 92,
   "metadata": {},
   "outputs": [],
   "source": [
    "ex=ExtraTreesClassifier(n_estimators=100)\n",
    "ex.fit(x_train, y_train)\n",
    "pred_ex=ex.predict(x_test)\n",
    "score=ex.score(x_test, y_test)"
   ]
  },
  {
   "cell_type": "code",
   "execution_count": 93,
   "metadata": {},
   "outputs": [
    {
     "data": {
      "text/plain": [
       "0.8688524590163934"
      ]
     },
     "execution_count": 93,
     "metadata": {},
     "output_type": "execute_result"
    }
   ],
   "source": [
    "score"
   ]
  },
  {
   "cell_type": "code",
   "execution_count": 94,
   "metadata": {},
   "outputs": [
    {
     "name": "stderr",
     "output_type": "stream",
     "text": [
      "C:\\Users\\KINGSLEY\\Anaconda3\\Anaconda\\envs\\kingsley\\lib\\site-packages\\sklearn\\utils\\deprecation.py:87: FutureWarning: Function plot_confusion_matrix is deprecated; Function `plot_confusion_matrix` is deprecated in 1.0 and will be removed in 1.2. Use one of the class methods: ConfusionMatrixDisplay.from_predictions or ConfusionMatrixDisplay.from_estimator.\n",
      "  warnings.warn(msg, category=FutureWarning)\n"
     ]
    },
    {
     "data": {
      "image/png": "[encoded data removed]",
      "text/plain": [
       "<Figure size 432x288 with 2 Axes>"
      ]
     },
     "metadata": {
      "needs_background": "light"
     },
     "output_type": "display_data"
    }
   ],
   "source": [
    "plot_confusion_matrix(model_cat, x_test, y_test)\n",
    "plt.show()"
   ]
  },
  {
   "cell_type": "code",
   "execution_count": 95,
   "metadata": {},
   "outputs": [
    {
     "name": "stdout",
     "output_type": "stream",
     "text": [
      "              precision    recall  f1-score   support\n",
      "\n",
      "           0       0.86      0.86      0.86        28\n",
      "           1       0.88      0.88      0.88        33\n",
      "\n",
      "    accuracy                           0.87        61\n",
      "   macro avg       0.87      0.87      0.87        61\n",
      "weighted avg       0.87      0.87      0.87        61\n",
      "\n"
     ]
    }
   ],
   "source": [
    "print(classification_report(y_test,pred_ex ))"
   ]
  },
  {
   "cell_type": "code",
   "execution_count": 96,
   "metadata": {},
   "outputs": [
    {
     "name": "stdout",
     "output_type": "stream",
     "text": [
      "Crossvalidation fold: 0  Accruacy: 0.8571428571428571\n",
      "Crossvalidation fold: 1  Accruacy: 0.8775510204081632\n",
      "Crossvalidation fold: 2  Accruacy: 0.7916666666666666\n",
      "Crossvalidation fold: 3  Accruacy: 0.8125\n",
      "Crossvalidation fold: 4  Accruacy: 0.7916666666666666\n",
      "Mean train cross validation score 0.8261054421768707\n"
     ]
    }
   ],
   "source": [
    "cv=cross_validate(ex, x_train, y_train, return_estimator=True, cv=5)\n",
    "\n",
    "        #print out cross validation scores\n",
    "[print('Crossvalidation fold: {}  Accruacy: {}'.format(n, score)) for n, score in enumerate(cv['test_score'])]\n",
    "        #print out the mean of the cross validation\n",
    "print('Mean train cross validation score {}'.format(cv['test_score'].mean()))"
   ]
  },
  {
   "cell_type": "code",
   "execution_count": 104,
   "metadata": {},
   "outputs": [
    {
     "data": {
      "text/plain": [
       "dict_keys(['bootstrap', 'ccp_alpha', 'class_weight', 'criterion', 'max_depth', 'max_features', 'max_leaf_nodes', 'max_samples', 'min_impurity_decrease', 'min_samples_leaf', 'min_samples_split', 'min_weight_fraction_leaf', 'n_estimators', 'n_jobs', 'oob_score', 'random_state', 'verbose', 'warm_start'])"
      ]
     },
     "execution_count": 104,
     "metadata": {},
     "output_type": "execute_result"
    }
   ],
   "source": [
    "ex.get_params().keys()"
   ]
  },
  {
   "cell_type": "code",
   "execution_count": 107,
   "metadata": {},
   "outputs": [],
   "source": [
    "clf_ex=ExtraTreesClassifier()\n",
    "params_ex = { 'n_estimator':[1000],\n",
    "            'criterion': ['gini', 'entropy'],\n",
    "          'max_depth': [2,4, 5, 6],\n",
    "          \"max_features\":[\"auto\", \"sqrt\", \"log2\"],\n",
    "\n",
    "          \n",
    "        \"class_weight\": ['balance', \"balanced_subsample\"],\n",
    "#           'eval_metric': ['Accuracy'],\n",
    "#           estimator.get_params().keys()`\n",
    "          'random_state':[0]\n",
    "         }\n",
    "scorer_ex = make_scorer(accuracy_score)\n",
    "ex_grid= GridSearchCV(estimator=ex, param_grid=params, scoring=scorer_ex, cv=5)\n"
   ]
  }
 ],
 "metadata": {
  "interpreter": {
   "hash": "6302f919dcb08f1f118abb842abed3ef8442423141f6170a91e39e8a0522f69d"
  },
  "kernelspec": {
   "display_name": "Python 3.10.4 ('kingsley')",
   "language": "python",
   "name": "python3"
  },
  "language_info": {
   "codemirror_mode": {
    "name": "ipython",
    "version": 3
   },
   "file_extension": ".py",
   "mimetype": "text/x-python",
   "name": "python",
   "nbconvert_exporter": "python",
   "pygments_lexer": "ipython3",
   "version": "3.10.4"
  },
  "orig_nbformat": 4
 },
 "nbformat": 4,
 "nbformat_minor": 2
}
